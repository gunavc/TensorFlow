{
 "cells": [
  {
   "cell_type": "code",
   "execution_count": 1,
   "id": "1a7a0454",
   "metadata": {},
   "outputs": [
    {
     "data": {
      "text/plain": [
       "'2.9.0'"
      ]
     },
     "execution_count": 1,
     "metadata": {},
     "output_type": "execute_result"
    }
   ],
   "source": [
    "import tensorflow as tf\n",
    "tf.__version__"
   ]
  },
  {
   "cell_type": "code",
   "execution_count": 2,
   "id": "23e73020",
   "metadata": {
    "scrolled": false
   },
   "outputs": [
    {
     "data": {
      "text/plain": [
       "<matplotlib.collections.PathCollection at 0x168ad03d0>"
      ]
     },
     "execution_count": 2,
     "metadata": {},
     "output_type": "execute_result"
    },
    {
     "data": {
      "image/png": "[encoded data removed]",
      "text/plain": [
       "<Figure size 640x480 with 1 Axes>"
      ]
     },
     "metadata": {},
     "output_type": "display_data"
    }
   ],
   "source": [
    "#Creating data to visualize\n",
    "\n",
    "import numpy as np\n",
    "import matplotlib.pyplot as plt\n",
    "\n",
    "#Creating features\n",
    "X = np.array([-7.0,-4.0,-1.0,2.0,5.0,8.0,11.0,14.0])\n",
    "\n",
    "#Creating labels\n",
    "y = np.array([3.0,6.0,9.0,12.0,15.0,18.0,21.0,24.0])\n",
    "\n",
    "#Visaulizing\n",
    "plt.scatter(X,y)"
   ]
  },
  {
   "cell_type": "code",
   "execution_count": 3,
   "id": "adaf22b1",
   "metadata": {},
   "outputs": [
    {
     "name": "stdout",
     "output_type": "stream",
     "text": [
      "Metal device set to: Apple M1 Max\n"
     ]
    },
    {
     "name": "stderr",
     "output_type": "stream",
     "text": [
      "2023-04-14 09:11:49.299476: I tensorflow/core/common_runtime/pluggable_device/pluggable_device_factory.cc:305] Could not identify NUMA node of platform GPU ID 0, defaulting to 0. Your kernel may not have been built with NUMA support.\n",
      "2023-04-14 09:11:49.299603: I tensorflow/core/common_runtime/pluggable_device/pluggable_device_factory.cc:271] Created TensorFlow device (/job:localhost/replica:0/task:0/device:GPU:0 with 0 MB memory) -> physical PluggableDevice (device: 0, name: METAL, pci bus id: <undefined>)\n"
     ]
    }
   ],
   "source": [
    "#Converting NumPy array to tensors\n",
    "X = tf.constant(X)\n",
    "y = tf.constant(y)"
   ]
  },
  {
   "cell_type": "code",
   "execution_count": 4,
   "id": "b14db8d0",
   "metadata": {},
   "outputs": [],
   "source": [
    "tf.random.set_seed(42)"
   ]
  },
  {
   "cell_type": "code",
   "execution_count": 5,
   "id": "7013e26e",
   "metadata": {
    "scrolled": false
   },
   "outputs": [
    {
     "name": "stdout",
     "output_type": "stream",
     "text": [
      "Epoch 1/10\n"
     ]
    },
    {
     "name": "stderr",
     "output_type": "stream",
     "text": [
      "2023-04-14 09:11:49.381421: W tensorflow/core/platform/profile_utils/cpu_utils.cc:128] Failed to get CPU frequency: 0 Hz\n",
      "2023-04-14 09:11:49.479275: I tensorflow/core/grappler/optimizers/custom_graph_optimizer_registry.cc:113] Plugin optimizer for device_type GPU is enabled.\n"
     ]
    },
    {
     "name": "stdout",
     "output_type": "stream",
     "text": [
      "1/1 [==============================] - 0s 164ms/step - loss: 11.5048 - mae: 11.5048\n",
      "Epoch 2/10\n",
      "1/1 [==============================] - 0s 7ms/step - loss: 11.3723 - mae: 11.3723\n",
      "Epoch 3/10\n",
      "1/1 [==============================] - 0s 6ms/step - loss: 11.2398 - mae: 11.2398\n",
      "Epoch 4/10\n",
      "1/1 [==============================] - 0s 7ms/step - loss: 11.1073 - mae: 11.1073\n",
      "Epoch 5/10\n",
      "1/1 [==============================] - 0s 6ms/step - loss: 10.9748 - mae: 10.9748\n",
      "Epoch 6/10\n",
      "1/1 [==============================] - 0s 6ms/step - loss: 10.8423 - mae: 10.8423\n",
      "Epoch 7/10\n",
      "1/1 [==============================] - 0s 7ms/step - loss: 10.7098 - mae: 10.7098\n",
      "Epoch 8/10\n",
      "1/1 [==============================] - 0s 6ms/step - loss: 10.5773 - mae: 10.5773\n",
      "Epoch 9/10\n",
      "1/1 [==============================] - 0s 7ms/step - loss: 10.4448 - mae: 10.4448\n",
      "Epoch 10/10\n",
      "1/1 [==============================] - 0s 6ms/step - loss: 10.3123 - mae: 10.3123\n"
     ]
    },
    {
     "data": {
      "text/plain": [
       "<keras.callbacks.History at 0x1698fe310>"
      ]
     },
     "execution_count": 5,
     "metadata": {},
     "output_type": "execute_result"
    }
   ],
   "source": [
    "#Modelling with TensorFlow\n",
    "\n",
    "#Creating the model\n",
    "#using sequential API\n",
    "model = tf.keras.Sequential([\n",
    "    tf.keras.layers.Dense(1)\n",
    "])\n",
    "\n",
    "#Compiling the model - Loss function and optimizer and evaluation\\\n",
    "model.compile(loss=tf.keras.losses.mae,\n",
    "             optimizer=tf.keras.optimizers.SGD(),\n",
    "             metrics=[\"mae\"])\n",
    "\n",
    "#Fitting the model\n",
    "model.fit(tf.expand_dims(X,axis=-1), y, epochs=10)"
   ]
  },
  {
   "cell_type": "code",
   "execution_count": 6,
   "id": "a04af5ba",
   "metadata": {},
   "outputs": [
    {
     "name": "stdout",
     "output_type": "stream",
     "text": [
      "1/1 [==============================] - 0s 37ms/step\n"
     ]
    },
    {
     "name": "stderr",
     "output_type": "stream",
     "text": [
      "2023-04-14 09:11:49.671826: I tensorflow/core/grappler/optimizers/custom_graph_optimizer_registry.cc:113] Plugin optimizer for device_type GPU is enabled.\n"
     ]
    },
    {
     "data": {
      "text/plain": [
       "array([[15.741023]], dtype=float32)"
      ]
     },
     "execution_count": 6,
     "metadata": {},
     "output_type": "execute_result"
    }
   ],
   "source": [
    "#making a predicion from the model\n",
    "model.predict([17.0])"
   ]
  },
  {
   "cell_type": "code",
   "execution_count": 7,
   "id": "f5078580",
   "metadata": {},
   "outputs": [
    {
     "name": "stdout",
     "output_type": "stream",
     "text": [
      "Epoch 1/100\n"
     ]
    },
    {
     "name": "stderr",
     "output_type": "stream",
     "text": [
      "/Users/gunachowdary/miniconda/envs/course_repo/lib/python3.9/site-packages/keras/optimizers/optimizer_v2/adam.py:110: UserWarning: The `lr` argument is deprecated, use `learning_rate` instead.\n",
      "  super(Adam, self).__init__(name, **kwargs)\n",
      "2023-04-14 09:11:49.840785: I tensorflow/core/grappler/optimizers/custom_graph_optimizer_registry.cc:113] Plugin optimizer for device_type GPU is enabled.\n"
     ]
    },
    {
     "name": "stdout",
     "output_type": "stream",
     "text": [
      "1/1 [==============================] - 0s 248ms/step - loss: 13.3491 - mae: 13.3491\n",
      "Epoch 2/100\n",
      "1/1 [==============================] - 0s 8ms/step - loss: 10.7682 - mae: 10.7682\n",
      "Epoch 3/100\n",
      "1/1 [==============================] - 0s 8ms/step - loss: 8.9778 - mae: 8.9778\n",
      "Epoch 4/100\n",
      "1/1 [==============================] - 0s 7ms/step - loss: 7.1874 - mae: 7.1874\n",
      "Epoch 5/100\n",
      "1/1 [==============================] - 0s 7ms/step - loss: 5.1573 - mae: 5.1573\n",
      "Epoch 6/100\n",
      "1/1 [==============================] - 0s 8ms/step - loss: 3.9689 - mae: 3.9689\n",
      "Epoch 7/100\n",
      "1/1 [==============================] - 0s 7ms/step - loss: 4.7387 - mae: 4.7387\n",
      "Epoch 8/100\n",
      "1/1 [==============================] - 0s 7ms/step - loss: 5.3363 - mae: 5.3363\n",
      "Epoch 9/100\n",
      "1/1 [==============================] - 0s 7ms/step - loss: 5.4290 - mae: 5.4290\n",
      "Epoch 10/100\n",
      "1/1 [==============================] - 0s 7ms/step - loss: 5.1174 - mae: 5.1174\n",
      "Epoch 11/100\n",
      "1/1 [==============================] - 0s 7ms/step - loss: 4.6820 - mae: 4.6820\n",
      "Epoch 12/100\n",
      "1/1 [==============================] - 0s 7ms/step - loss: 3.9757 - mae: 3.9757\n",
      "Epoch 13/100\n",
      "1/1 [==============================] - 0s 7ms/step - loss: 3.7068 - mae: 3.7068\n",
      "Epoch 14/100\n",
      "1/1 [==============================] - 0s 7ms/step - loss: 3.7455 - mae: 3.7455\n",
      "Epoch 15/100\n",
      "1/1 [==============================] - 0s 7ms/step - loss: 4.0979 - mae: 4.0979\n",
      "Epoch 16/100\n",
      "1/1 [==============================] - 0s 7ms/step - loss: 4.0700 - mae: 4.0700\n",
      "Epoch 17/100\n",
      "1/1 [==============================] - 0s 7ms/step - loss: 3.6517 - mae: 3.6517\n",
      "Epoch 18/100\n",
      "1/1 [==============================] - 0s 7ms/step - loss: 3.3707 - mae: 3.3707\n",
      "Epoch 19/100\n",
      "1/1 [==============================] - 0s 7ms/step - loss: 3.3885 - mae: 3.3885\n",
      "Epoch 20/100\n",
      "1/1 [==============================] - 0s 8ms/step - loss: 3.3484 - mae: 3.3484\n",
      "Epoch 21/100\n",
      "1/1 [==============================] - 0s 7ms/step - loss: 3.2805 - mae: 3.2805\n",
      "Epoch 22/100\n",
      "1/1 [==============================] - 0s 7ms/step - loss: 3.1597 - mae: 3.1597\n",
      "Epoch 23/100\n",
      "1/1 [==============================] - 0s 7ms/step - loss: 3.0020 - mae: 3.0020\n",
      "Epoch 24/100\n",
      "1/1 [==============================] - 0s 8ms/step - loss: 2.7991 - mae: 2.7991\n",
      "Epoch 25/100\n",
      "1/1 [==============================] - 0s 7ms/step - loss: 2.5796 - mae: 2.5796\n",
      "Epoch 26/100\n",
      "1/1 [==============================] - 0s 7ms/step - loss: 2.3808 - mae: 2.3808\n",
      "Epoch 27/100\n",
      "1/1 [==============================] - 0s 7ms/step - loss: 2.1012 - mae: 2.1012\n",
      "Epoch 28/100\n",
      "1/1 [==============================] - 0s 7ms/step - loss: 1.8536 - mae: 1.8536\n",
      "Epoch 29/100\n",
      "1/1 [==============================] - 0s 7ms/step - loss: 1.5447 - mae: 1.5447\n",
      "Epoch 30/100\n",
      "1/1 [==============================] - 0s 7ms/step - loss: 1.1556 - mae: 1.1556\n",
      "Epoch 31/100\n",
      "1/1 [==============================] - 0s 7ms/step - loss: 0.8343 - mae: 0.8343\n",
      "Epoch 32/100\n",
      "1/1 [==============================] - 0s 7ms/step - loss: 0.3910 - mae: 0.3910\n",
      "Epoch 33/100\n",
      "1/1 [==============================] - 0s 7ms/step - loss: 0.3817 - mae: 0.3817\n",
      "Epoch 34/100\n",
      "1/1 [==============================] - 0s 7ms/step - loss: 1.1433 - mae: 1.1433\n",
      "Epoch 35/100\n",
      "1/1 [==============================] - 0s 7ms/step - loss: 0.9946 - mae: 0.9946\n",
      "Epoch 36/100\n",
      "1/1 [==============================] - 0s 7ms/step - loss: 1.5329 - mae: 1.5329\n",
      "Epoch 37/100\n",
      "1/1 [==============================] - 0s 7ms/step - loss: 1.2431 - mae: 1.2431\n",
      "Epoch 38/100\n",
      "1/1 [==============================] - 0s 7ms/step - loss: 1.2573 - mae: 1.2573\n",
      "Epoch 39/100\n",
      "1/1 [==============================] - 0s 7ms/step - loss: 1.3438 - mae: 1.3438\n",
      "Epoch 40/100\n",
      "1/1 [==============================] - 0s 7ms/step - loss: 0.6201 - mae: 0.6201\n",
      "Epoch 41/100\n",
      "1/1 [==============================] - 0s 7ms/step - loss: 1.2960 - mae: 1.2960\n",
      "Epoch 42/100\n",
      "1/1 [==============================] - 0s 7ms/step - loss: 1.5146 - mae: 1.5146\n",
      "Epoch 43/100\n",
      "1/1 [==============================] - 0s 7ms/step - loss: 0.6642 - mae: 0.6642\n",
      "Epoch 44/100\n",
      "1/1 [==============================] - 0s 7ms/step - loss: 1.1062 - mae: 1.1062\n",
      "Epoch 45/100\n",
      "1/1 [==============================] - 0s 8ms/step - loss: 1.6959 - mae: 1.6959\n",
      "Epoch 46/100\n",
      "1/1 [==============================] - 0s 6ms/step - loss: 1.5563 - mae: 1.5563\n",
      "Epoch 47/100\n",
      "1/1 [==============================] - 0s 6ms/step - loss: 0.7521 - mae: 0.7521\n",
      "Epoch 48/100\n",
      "1/1 [==============================] - 0s 7ms/step - loss: 1.1231 - mae: 1.1231\n",
      "Epoch 49/100\n",
      "1/1 [==============================] - 0s 7ms/step - loss: 1.7717 - mae: 1.7717\n",
      "Epoch 50/100\n",
      "1/1 [==============================] - 0s 7ms/step - loss: 1.7966 - mae: 1.7966\n",
      "Epoch 51/100\n",
      "1/1 [==============================] - 0s 6ms/step - loss: 1.1054 - mae: 1.1054\n",
      "Epoch 52/100\n",
      "1/1 [==============================] - 0s 6ms/step - loss: 0.5673 - mae: 0.5673\n",
      "Epoch 53/100\n",
      "1/1 [==============================] - 0s 7ms/step - loss: 1.4039 - mae: 1.4039\n",
      "Epoch 54/100\n",
      "1/1 [==============================] - 0s 7ms/step - loss: 1.5944 - mae: 1.5944\n",
      "Epoch 55/100\n",
      "1/1 [==============================] - 0s 6ms/step - loss: 1.2144 - mae: 1.2144\n",
      "Epoch 56/100\n",
      "1/1 [==============================] - 0s 7ms/step - loss: 0.4464 - mae: 0.4464\n",
      "Epoch 57/100\n",
      "1/1 [==============================] - 0s 6ms/step - loss: 0.6964 - mae: 0.6964\n",
      "Epoch 58/100\n",
      "1/1 [==============================] - 0s 6ms/step - loss: 0.8947 - mae: 0.8947\n",
      "Epoch 59/100\n",
      "1/1 [==============================] - 0s 7ms/step - loss: 0.5320 - mae: 0.5320\n",
      "Epoch 60/100\n",
      "1/1 [==============================] - 0s 6ms/step - loss: 0.4524 - mae: 0.4524\n",
      "Epoch 61/100\n",
      "1/1 [==============================] - 0s 7ms/step - loss: 0.7311 - mae: 0.7311\n",
      "Epoch 62/100\n",
      "1/1 [==============================] - 0s 7ms/step - loss: 0.4733 - mae: 0.4733\n",
      "Epoch 63/100\n",
      "1/1 [==============================] - 0s 6ms/step - loss: 0.3434 - mae: 0.3434\n",
      "Epoch 64/100\n",
      "1/1 [==============================] - 0s 6ms/step - loss: 0.3938 - mae: 0.3938\n",
      "Epoch 65/100\n",
      "1/1 [==============================] - 0s 7ms/step - loss: 0.1950 - mae: 0.1950\n",
      "Epoch 66/100\n",
      "1/1 [==============================] - 0s 6ms/step - loss: 0.3789 - mae: 0.3789\n",
      "Epoch 67/100\n",
      "1/1 [==============================] - 0s 6ms/step - loss: 0.1387 - mae: 0.1387\n",
      "Epoch 68/100\n",
      "1/1 [==============================] - 0s 7ms/step - loss: 0.4990 - mae: 0.4990\n",
      "Epoch 69/100\n",
      "1/1 [==============================] - 0s 7ms/step - loss: 0.3416 - mae: 0.3416\n",
      "Epoch 70/100\n",
      "1/1 [==============================] - 0s 6ms/step - loss: 0.3977 - mae: 0.3977\n",
      "Epoch 71/100\n",
      "1/1 [==============================] - 0s 7ms/step - loss: 0.5185 - mae: 0.5185\n",
      "Epoch 72/100\n",
      "1/1 [==============================] - 0s 7ms/step - loss: 0.1366 - mae: 0.1366\n",
      "Epoch 73/100\n",
      "1/1 [==============================] - 0s 6ms/step - loss: 0.4976 - mae: 0.4976\n",
      "Epoch 74/100\n",
      "1/1 [==============================] - 0s 7ms/step - loss: 0.4475 - mae: 0.4475\n",
      "Epoch 75/100\n",
      "1/1 [==============================] - 0s 6ms/step - loss: 0.2481 - mae: 0.2481\n",
      "Epoch 76/100\n",
      "1/1 [==============================] - 0s 6ms/step - loss: 0.2353 - mae: 0.2353\n",
      "Epoch 77/100\n",
      "1/1 [==============================] - 0s 6ms/step - loss: 0.3792 - mae: 0.3792\n",
      "Epoch 78/100\n",
      "1/1 [==============================] - 0s 7ms/step - loss: 0.2997 - mae: 0.2997\n",
      "Epoch 79/100\n",
      "1/1 [==============================] - 0s 7ms/step - loss: 0.2767 - mae: 0.2767\n",
      "Epoch 80/100\n",
      "1/1 [==============================] - 0s 7ms/step - loss: 0.2270 - mae: 0.2270\n",
      "Epoch 81/100\n",
      "1/1 [==============================] - 0s 6ms/step - loss: 0.3530 - mae: 0.3530\n",
      "Epoch 82/100\n",
      "1/1 [==============================] - 0s 8ms/step - loss: 0.3233 - mae: 0.3233\n",
      "Epoch 83/100\n",
      "1/1 [==============================] - 0s 7ms/step - loss: 0.2870 - mae: 0.2870\n",
      "Epoch 84/100\n",
      "1/1 [==============================] - 0s 7ms/step - loss: 0.3523 - mae: 0.3523\n",
      "Epoch 85/100\n",
      "1/1 [==============================] - 0s 7ms/step - loss: 0.1952 - mae: 0.1952\n",
      "Epoch 86/100\n",
      "1/1 [==============================] - 0s 6ms/step - loss: 0.1066 - mae: 0.1066\n",
      "Epoch 87/100\n",
      "1/1 [==============================] - 0s 7ms/step - loss: 0.2062 - mae: 0.2062\n",
      "Epoch 88/100\n",
      "1/1 [==============================] - 0s 7ms/step - loss: 0.1130 - mae: 0.1130\n",
      "Epoch 89/100\n"
     ]
    },
    {
     "name": "stdout",
     "output_type": "stream",
     "text": [
      "1/1 [==============================] - 0s 6ms/step - loss: 0.1205 - mae: 0.1205\n",
      "Epoch 90/100\n",
      "1/1 [==============================] - 0s 7ms/step - loss: 0.2536 - mae: 0.2536\n",
      "Epoch 91/100\n",
      "1/1 [==============================] - 0s 8ms/step - loss: 0.1024 - mae: 0.1024\n",
      "Epoch 92/100\n",
      "1/1 [==============================] - 0s 7ms/step - loss: 0.2840 - mae: 0.2840\n",
      "Epoch 93/100\n",
      "1/1 [==============================] - 0s 8ms/step - loss: 0.0997 - mae: 0.0997\n",
      "Epoch 94/100\n",
      "1/1 [==============================] - 0s 8ms/step - loss: 0.3857 - mae: 0.3857\n",
      "Epoch 95/100\n",
      "1/1 [==============================] - 0s 7ms/step - loss: 0.2615 - mae: 0.2615\n",
      "Epoch 96/100\n",
      "1/1 [==============================] - 0s 7ms/step - loss: 0.4164 - mae: 0.4164\n",
      "Epoch 97/100\n",
      "1/1 [==============================] - 0s 8ms/step - loss: 0.5142 - mae: 0.5142\n",
      "Epoch 98/100\n",
      "1/1 [==============================] - 0s 7ms/step - loss: 0.1743 - mae: 0.1743\n",
      "Epoch 99/100\n",
      "1/1 [==============================] - 0s 7ms/step - loss: 0.1671 - mae: 0.1671\n",
      "Epoch 100/100\n",
      "1/1 [==============================] - 0s 7ms/step - loss: 0.3477 - mae: 0.3477\n"
     ]
    },
    {
     "data": {
      "text/plain": [
       "<keras.callbacks.History at 0x169d388b0>"
      ]
     },
     "execution_count": 7,
     "metadata": {},
     "output_type": "execute_result"
    }
   ],
   "source": [
    "#IMPROVING THE MODEL\n",
    "#THE MODEL DOESNT ALWAYS IMPROVE\n",
    "\n",
    "#Alterting the creation(More Layers, Activation Function)\n",
    "model = tf.keras.Sequential([\n",
    "    tf.keras.layers.Dense(100, activation=\"relu\"),\n",
    "    tf.keras.layers.Dense(100, activation=\"relu\"),\n",
    "    tf.keras.layers.Dense(1)\n",
    "])\n",
    "\n",
    "#Altering the compile(Different Optimizers)\n",
    "model.compile(loss=tf.keras.losses.mae,\n",
    "             optimizer=tf.keras.optimizers.Adam(lr=0.01),\n",
    "             metrics=[\"mae\"])\n",
    "\n",
    "#Altering the fit(Increasing Epochs)\n",
    "model.fit(tf.expand_dims(X,axis=-1), y, epochs=100)"
   ]
  },
  {
   "cell_type": "code",
   "execution_count": 8,
   "id": "740488fd",
   "metadata": {},
   "outputs": [
    {
     "name": "stdout",
     "output_type": "stream",
     "text": [
      "1/1 [==============================] - 0s 43ms/step\n"
     ]
    },
    {
     "name": "stderr",
     "output_type": "stream",
     "text": [
      "2023-04-14 09:11:50.910682: I tensorflow/core/grappler/optimizers/custom_graph_optimizer_registry.cc:113] Plugin optimizer for device_type GPU is enabled.\n"
     ]
    },
    {
     "data": {
      "text/plain": [
       "array([[27.392632]], dtype=float32)"
      ]
     },
     "execution_count": 8,
     "metadata": {},
     "output_type": "execute_result"
    }
   ],
   "source": [
    "model.predict([17.0])"
   ]
  },
  {
   "cell_type": "code",
   "execution_count": 9,
   "id": "e21ff195",
   "metadata": {},
   "outputs": [
    {
     "data": {
      "text/plain": [
       "<matplotlib.collections.PathCollection at 0x16ba11b80>"
      ]
     },
     "execution_count": 9,
     "metadata": {},
     "output_type": "execute_result"
    },
    {
     "data": {
      "image/png": "[encoded data removed]",
      "text/plain": [
       "<Figure size 640x480 with 1 Axes>"
      ]
     },
     "metadata": {},
     "output_type": "display_data"
    }
   ],
   "source": [
    "#EVALUATING A MODEL\n",
    "\n",
    "#Creating a bigger data\n",
    "X = tf.range(-100,100,4)\n",
    "y = X + 10\n",
    "\n",
    "plt.scatter(X,y)"
   ]
  },
  {
   "cell_type": "code",
   "execution_count": 10,
   "id": "03d3d760",
   "metadata": {},
   "outputs": [
    {
     "data": {
      "text/plain": [
       "(40, 10)"
      ]
     },
     "execution_count": 10,
     "metadata": {},
     "output_type": "execute_result"
    }
   ],
   "source": [
    "#Splitting the data into train and test sets\n",
    "X_train = X[:40] #80%\n",
    "X_test = X[40:] #20%\n",
    "\n",
    "y_train = y[:40]\n",
    "y_test = y[40:]\n",
    "\n",
    "len(X_train), len(X_test)"
   ]
  },
  {
   "cell_type": "code",
   "execution_count": 11,
   "id": "15a915f0",
   "metadata": {
    "scrolled": false
   },
   "outputs": [
    {
     "data": {
      "text/plain": [
       "<matplotlib.legend.Legend at 0x17ffd5bb0>"
      ]
     },
     "execution_count": 11,
     "metadata": {},
     "output_type": "execute_result"
    },
    {
     "data": {
      "image/png": "[encoded data removed]",
      "text/plain": [
       "<Figure size 1000x700 with 1 Axes>"
      ]
     },
     "metadata": {},
     "output_type": "display_data"
    }
   ],
   "source": [
    "#Visualizing the data\n",
    "plt.figure(figsize=(10,7))\n",
    "plt.scatter(X_train, y_train, c=\"b\", label=\"Training Data\")\n",
    "plt.scatter(X_test, y_test, c=\"g\", label=\"Testing Data\")\n",
    "\n",
    "plt.legend()"
   ]
  },
  {
   "cell_type": "code",
   "execution_count": 34,
   "id": "b1bf1b5c",
   "metadata": {},
   "outputs": [
    {
     "name": "stdout",
     "output_type": "stream",
     "text": [
      "Epoch 1/100\n",
      "2/2 [==============================] - 0s 21ms/step - loss: 8.6049 - mae: 8.6049\n",
      "Epoch 2/100\n",
      "2/2 [==============================] - 0s 5ms/step - loss: 10.4695 - mae: 10.4695\n",
      "Epoch 3/100\n",
      "2/2 [==============================] - 0s 5ms/step - loss: 10.9015 - mae: 10.9015\n",
      "Epoch 4/100\n",
      "2/2 [==============================] - 0s 5ms/step - loss: 9.4167 - mae: 9.4167\n",
      "Epoch 5/100\n",
      "2/2 [==============================] - 0s 6ms/step - loss: 10.3042 - mae: 10.3042\n",
      "Epoch 6/100\n",
      "2/2 [==============================] - 0s 6ms/step - loss: 9.5497 - mae: 9.5497\n",
      "Epoch 7/100\n",
      "2/2 [==============================] - 0s 5ms/step - loss: 8.6695 - mae: 8.6695\n",
      "Epoch 8/100\n",
      "2/2 [==============================] - 0s 5ms/step - loss: 9.0480 - mae: 9.0480\n",
      "Epoch 9/100\n",
      "2/2 [==============================] - 0s 5ms/step - loss: 19.0087 - mae: 19.0087\n",
      "Epoch 10/100\n",
      "2/2 [==============================] - 0s 6ms/step - loss: 10.2539 - mae: 10.2539\n",
      "Epoch 11/100\n",
      "1/2 [==============>...............] - ETA: 0s - loss: 9.1271 - mae: 9.1271"
     ]
    },
    {
     "name": "stderr",
     "output_type": "stream",
     "text": [
      "2023-04-14 10:40:26.203481: I tensorflow/core/grappler/optimizers/custom_graph_optimizer_registry.cc:113] Plugin optimizer for device_type GPU is enabled.\n"
     ]
    },
    {
     "name": "stdout",
     "output_type": "stream",
     "text": [
      "2/2 [==============================] - 0s 6ms/step - loss: 8.4495 - mae: 8.4495\n",
      "Epoch 12/100\n",
      "2/2 [==============================] - 0s 5ms/step - loss: 10.7747 - mae: 10.7747\n",
      "Epoch 13/100\n",
      "2/2 [==============================] - 0s 5ms/step - loss: 9.8437 - mae: 9.8437\n",
      "Epoch 14/100\n",
      "2/2 [==============================] - 0s 5ms/step - loss: 11.9966 - mae: 11.9966\n",
      "Epoch 15/100\n",
      "2/2 [==============================] - 0s 6ms/step - loss: 12.4943 - mae: 12.4943\n",
      "Epoch 16/100\n",
      "2/2 [==============================] - 0s 5ms/step - loss: 7.9004 - mae: 7.9004\n",
      "Epoch 17/100\n",
      "2/2 [==============================] - 0s 5ms/step - loss: 12.8050 - mae: 12.8050\n",
      "Epoch 18/100\n",
      "2/2 [==============================] - 0s 6ms/step - loss: 10.4282 - mae: 10.4282\n",
      "Epoch 19/100\n",
      "2/2 [==============================] - 0s 5ms/step - loss: 19.2804 - mae: 19.2804\n",
      "Epoch 20/100\n",
      "2/2 [==============================] - 0s 5ms/step - loss: 15.9429 - mae: 15.9429\n",
      "Epoch 21/100\n",
      "2/2 [==============================] - 0s 6ms/step - loss: 11.8639 - mae: 11.8639\n",
      "Epoch 22/100\n",
      "2/2 [==============================] - 0s 6ms/step - loss: 8.4705 - mae: 8.4705\n",
      "Epoch 23/100\n",
      "2/2 [==============================] - 0s 5ms/step - loss: 9.7952 - mae: 9.7952\n",
      "Epoch 24/100\n",
      "2/2 [==============================] - 0s 5ms/step - loss: 10.8314 - mae: 10.8314\n",
      "Epoch 25/100\n",
      "2/2 [==============================] - 0s 5ms/step - loss: 9.1031 - mae: 9.1031\n",
      "Epoch 26/100\n",
      "2/2 [==============================] - 0s 5ms/step - loss: 13.0605 - mae: 13.0605\n",
      "Epoch 27/100\n",
      "2/2 [==============================] - 0s 5ms/step - loss: 10.3931 - mae: 10.3931\n",
      "Epoch 28/100\n",
      "2/2 [==============================] - 0s 6ms/step - loss: 13.3990 - mae: 13.3990\n",
      "Epoch 29/100\n",
      "2/2 [==============================] - 0s 5ms/step - loss: 9.6034 - mae: 9.6034\n",
      "Epoch 30/100\n",
      "2/2 [==============================] - 0s 6ms/step - loss: 17.2207 - mae: 17.2207\n",
      "Epoch 31/100\n",
      "2/2 [==============================] - 0s 6ms/step - loss: 22.8368 - mae: 22.8368\n",
      "Epoch 32/100\n",
      "2/2 [==============================] - 0s 5ms/step - loss: 7.9057 - mae: 7.9057\n",
      "Epoch 33/100\n",
      "2/2 [==============================] - 0s 5ms/step - loss: 14.1503 - mae: 14.1503\n",
      "Epoch 34/100\n",
      "2/2 [==============================] - 0s 6ms/step - loss: 12.3998 - mae: 12.3998\n",
      "Epoch 35/100\n",
      "2/2 [==============================] - 0s 6ms/step - loss: 8.2432 - mae: 8.2432\n",
      "Epoch 36/100\n",
      "2/2 [==============================] - 0s 5ms/step - loss: 10.4565 - mae: 10.4565\n",
      "Epoch 37/100\n",
      "2/2 [==============================] - 0s 5ms/step - loss: 10.1052 - mae: 10.1052\n",
      "Epoch 38/100\n",
      "2/2 [==============================] - 0s 6ms/step - loss: 11.2882 - mae: 11.2882\n",
      "Epoch 39/100\n",
      "2/2 [==============================] - 0s 5ms/step - loss: 14.7719 - mae: 14.7719\n",
      "Epoch 40/100\n",
      "2/2 [==============================] - 0s 5ms/step - loss: 12.9020 - mae: 12.9020\n",
      "Epoch 41/100\n",
      "2/2 [==============================] - 0s 5ms/step - loss: 9.2944 - mae: 9.2944\n",
      "Epoch 42/100\n",
      "2/2 [==============================] - 0s 5ms/step - loss: 10.9741 - mae: 10.9741\n",
      "Epoch 43/100\n",
      "2/2 [==============================] - 0s 5ms/step - loss: 8.3201 - mae: 8.3201\n",
      "Epoch 44/100\n",
      "2/2 [==============================] - 0s 5ms/step - loss: 13.0091 - mae: 13.0091\n",
      "Epoch 45/100\n",
      "2/2 [==============================] - 0s 5ms/step - loss: 13.6962 - mae: 13.6962\n",
      "Epoch 46/100\n",
      "2/2 [==============================] - 0s 5ms/step - loss: 8.3955 - mae: 8.3955\n",
      "Epoch 47/100\n",
      "2/2 [==============================] - 0s 5ms/step - loss: 9.1666 - mae: 9.1666\n",
      "Epoch 48/100\n",
      "2/2 [==============================] - 0s 5ms/step - loss: 10.6734 - mae: 10.6734\n",
      "Epoch 49/100\n",
      "2/2 [==============================] - 0s 5ms/step - loss: 7.7788 - mae: 7.7788\n",
      "Epoch 50/100\n",
      "2/2 [==============================] - 0s 5ms/step - loss: 9.5900 - mae: 9.5900\n",
      "Epoch 51/100\n",
      "2/2 [==============================] - 0s 5ms/step - loss: 9.1619 - mae: 9.1619\n",
      "Epoch 52/100\n",
      "2/2 [==============================] - 0s 5ms/step - loss: 16.4882 - mae: 16.4882\n",
      "Epoch 53/100\n",
      "2/2 [==============================] - 0s 5ms/step - loss: 14.0664 - mae: 14.0664\n",
      "Epoch 54/100\n",
      "2/2 [==============================] - 0s 5ms/step - loss: 20.9770 - mae: 20.9770\n",
      "Epoch 55/100\n",
      "2/2 [==============================] - 0s 5ms/step - loss: 16.5072 - mae: 16.5072\n",
      "Epoch 56/100\n",
      "2/2 [==============================] - 0s 5ms/step - loss: 9.8426 - mae: 9.8426\n",
      "Epoch 57/100\n",
      "2/2 [==============================] - 0s 5ms/step - loss: 9.6572 - mae: 9.6572\n",
      "Epoch 58/100\n",
      "2/2 [==============================] - 0s 5ms/step - loss: 8.9740 - mae: 8.9740\n",
      "Epoch 59/100\n",
      "2/2 [==============================] - 0s 5ms/step - loss: 10.1882 - mae: 10.1882\n",
      "Epoch 60/100\n",
      "2/2 [==============================] - 0s 5ms/step - loss: 8.4012 - mae: 8.4012\n",
      "Epoch 61/100\n",
      "2/2 [==============================] - 0s 5ms/step - loss: 9.2350 - mae: 9.2350\n",
      "Epoch 62/100\n",
      "2/2 [==============================] - 0s 5ms/step - loss: 7.2649 - mae: 7.2649\n",
      "Epoch 63/100\n",
      "2/2 [==============================] - 0s 5ms/step - loss: 8.1708 - mae: 8.1708\n",
      "Epoch 64/100\n",
      "2/2 [==============================] - 0s 5ms/step - loss: 12.5349 - mae: 12.5349\n",
      "Epoch 65/100\n",
      "2/2 [==============================] - 0s 5ms/step - loss: 10.6128 - mae: 10.6128\n",
      "Epoch 66/100\n",
      "2/2 [==============================] - 0s 6ms/step - loss: 15.4632 - mae: 15.4632\n",
      "Epoch 67/100\n",
      "2/2 [==============================] - 0s 5ms/step - loss: 9.9029 - mae: 9.9029\n",
      "Epoch 68/100\n",
      "2/2 [==============================] - 0s 5ms/step - loss: 8.6719 - mae: 8.6719\n",
      "Epoch 69/100\n",
      "2/2 [==============================] - 0s 5ms/step - loss: 13.3368 - mae: 13.3368\n",
      "Epoch 70/100\n",
      "2/2 [==============================] - 0s 5ms/step - loss: 7.4624 - mae: 7.4624\n",
      "Epoch 71/100\n",
      "2/2 [==============================] - 0s 6ms/step - loss: 12.3397 - mae: 12.3397\n",
      "Epoch 72/100\n",
      "2/2 [==============================] - 0s 5ms/step - loss: 8.4475 - mae: 8.4475\n",
      "Epoch 73/100\n",
      "2/2 [==============================] - 0s 5ms/step - loss: 6.8676 - mae: 6.8676\n",
      "Epoch 74/100\n",
      "2/2 [==============================] - 0s 5ms/step - loss: 11.0517 - mae: 11.0517\n",
      "Epoch 75/100\n",
      "2/2 [==============================] - 0s 5ms/step - loss: 9.4064 - mae: 9.4064\n",
      "Epoch 76/100\n",
      "2/2 [==============================] - 0s 5ms/step - loss: 10.8619 - mae: 10.8619\n",
      "Epoch 77/100\n",
      "2/2 [==============================] - 0s 5ms/step - loss: 14.8049 - mae: 14.8049\n",
      "Epoch 78/100\n",
      "2/2 [==============================] - 0s 5ms/step - loss: 10.8764 - mae: 10.8764\n",
      "Epoch 79/100\n",
      "2/2 [==============================] - 0s 5ms/step - loss: 15.3280 - mae: 15.3280\n",
      "Epoch 80/100\n",
      "2/2 [==============================] - 0s 5ms/step - loss: 11.7601 - mae: 11.7601\n",
      "Epoch 81/100\n",
      "2/2 [==============================] - 0s 5ms/step - loss: 9.2041 - mae: 9.2041\n",
      "Epoch 82/100\n",
      "2/2 [==============================] - 0s 5ms/step - loss: 12.8529 - mae: 12.8529\n",
      "Epoch 83/100\n",
      "2/2 [==============================] - 0s 5ms/step - loss: 10.3077 - mae: 10.3077\n",
      "Epoch 84/100\n",
      "2/2 [==============================] - 0s 5ms/step - loss: 10.5865 - mae: 10.5865\n",
      "Epoch 85/100\n",
      "2/2 [==============================] - 0s 5ms/step - loss: 9.3008 - mae: 9.3008\n",
      "Epoch 86/100\n",
      "2/2 [==============================] - 0s 5ms/step - loss: 9.1542 - mae: 9.1542\n",
      "Epoch 87/100\n",
      "2/2 [==============================] - 0s 5ms/step - loss: 11.8775 - mae: 11.8775\n",
      "Epoch 88/100\n",
      "2/2 [==============================] - 0s 5ms/step - loss: 10.4872 - mae: 10.4872\n",
      "Epoch 89/100\n",
      "2/2 [==============================] - 0s 5ms/step - loss: 6.9689 - mae: 6.9689\n",
      "Epoch 90/100\n",
      "2/2 [==============================] - 0s 5ms/step - loss: 13.8167 - mae: 13.8167\n",
      "Epoch 91/100\n",
      "2/2 [==============================] - 0s 5ms/step - loss: 7.8833 - mae: 7.8833\n",
      "Epoch 92/100\n",
      "2/2 [==============================] - 0s 5ms/step - loss: 7.4496 - mae: 7.4496\n",
      "Epoch 93/100\n",
      "2/2 [==============================] - 0s 6ms/step - loss: 9.1536 - mae: 9.1536\n",
      "Epoch 94/100\n",
      "2/2 [==============================] - 0s 5ms/step - loss: 8.5577 - mae: 8.5577\n",
      "Epoch 95/100\n",
      "2/2 [==============================] - 0s 5ms/step - loss: 11.4997 - mae: 11.4997\n",
      "Epoch 96/100\n",
      "2/2 [==============================] - 0s 4ms/step - loss: 10.2886 - mae: 10.2886\n",
      "Epoch 97/100\n",
      "2/2 [==============================] - 0s 5ms/step - loss: 7.6817 - mae: 7.6817\n",
      "Epoch 98/100\n"
     ]
    },
    {
     "name": "stdout",
     "output_type": "stream",
     "text": [
      "2/2 [==============================] - 0s 5ms/step - loss: 8.6165 - mae: 8.6165\n",
      "Epoch 99/100\n",
      "2/2 [==============================] - 0s 5ms/step - loss: 9.3955 - mae: 9.3955\n",
      "Epoch 100/100\n",
      "2/2 [==============================] - 0s 5ms/step - loss: 8.8401 - mae: 8.8401\n"
     ]
    },
    {
     "data": {
      "text/plain": [
       "<keras.callbacks.History at 0x168ef2af0>"
      ]
     },
     "execution_count": 34,
     "metadata": {},
     "output_type": "execute_result"
    }
   ],
   "source": [
    "#Building the neural network\n",
    "\n",
    "#Creating the model\n",
    "model = tf.keras.Sequential([\n",
    "    tf.keras.layers.Dense(1)\n",
    "])\n",
    "\n",
    "model.compile(loss=tf.keras.losses.mae,\n",
    "             optimizer=tf.keras.optimizers.SGD(),\n",
    "             metrics=[\"mae\"])\n",
    "\n",
    "model.fit(tf.expand_dims(X_train,axis=-1), y_train, epochs=100)"
   ]
  },
  {
   "cell_type": "code",
   "execution_count": 13,
   "id": "7e2c8e8b",
   "metadata": {
    "scrolled": false
   },
   "outputs": [
    {
     "name": "stdout",
     "output_type": "stream",
     "text": [
      "Model: \"sequential_2\"\n",
      "_________________________________________________________________\n",
      " Layer (type)                Output Shape              Param #   \n",
      "=================================================================\n",
      " dense_4 (Dense)             (None, 1)                 2         \n",
      "                                                                 \n",
      "=================================================================\n",
      "Total params: 2\n",
      "Trainable params: 2\n",
      "Non-trainable params: 0\n",
      "_________________________________________________________________\n"
     ]
    }
   ],
   "source": [
    "model.summary()"
   ]
  },
  {
   "cell_type": "code",
   "execution_count": 14,
   "id": "86ea8629",
   "metadata": {},
   "outputs": [
    {
     "data": {
      "text/plain": [
       "<tf.Tensor: shape=(), dtype=int32, numpy=-100>"
      ]
     },
     "execution_count": 14,
     "metadata": {},
     "output_type": "execute_result"
    }
   ],
   "source": [
    "X[0] #input shape"
   ]
  },
  {
   "cell_type": "code",
   "execution_count": 52,
   "id": "e4c6b659",
   "metadata": {},
   "outputs": [],
   "source": [
    "#Model that builds automatically\n",
    "#-By defining the input shape in the first layers\n",
    "tf.random.set_seed(42)\n",
    "\n",
    "model = tf.keras.Sequential([\n",
    "    tf.keras.layers.Dense(10, input_shape=[1], name=\"input_layer\"),\n",
    "    tf.keras.layers.Dense(1, name=\"output_layer\")\n",
    "])\n",
    "\n",
    "model.compile(loss=tf.keras.losses.mae,\n",
    "             optimizer=tf.keras.optimizers.SGD(),\n",
    "             metrics=[\"mae\"])"
   ]
  },
  {
   "cell_type": "code",
   "execution_count": 53,
   "id": "80bd324f",
   "metadata": {
    "scrolled": false
   },
   "outputs": [
    {
     "name": "stdout",
     "output_type": "stream",
     "text": [
      "Model: \"sequential_11\"\n",
      "_________________________________________________________________\n",
      " Layer (type)                Output Shape              Param #   \n",
      "=================================================================\n",
      " input_layer (Dense)         (None, 10)                20        \n",
      "                                                                 \n",
      " output_layer (Dense)        (None, 1)                 11        \n",
      "                                                                 \n",
      "=================================================================\n",
      "Total params: 31\n",
      "Trainable params: 31\n",
      "Non-trainable params: 0\n",
      "_________________________________________________________________\n"
     ]
    }
   ],
   "source": [
    "model.summary()"
   ]
  },
  {
   "cell_type": "code",
   "execution_count": 113,
   "id": "a5d5c901",
   "metadata": {},
   "outputs": [
    {
     "name": "stdout",
     "output_type": "stream",
     "text": [
      "Epoch 1/100\n",
      "2/2 [==============================] - 0s 27ms/step - loss: 71.5356 - mae: 71.5356\n",
      "Epoch 2/100\n",
      "2/2 [==============================] - 0s 6ms/step - loss: 36.2784 - mae: 36.2784\n",
      "Epoch 3/100\n",
      "2/2 [==============================] - 0s 6ms/step - loss: 7.8226 - mae: 7.8226\n",
      "Epoch 4/100\n",
      "2/2 [==============================] - 0s 6ms/step - loss: 8.7849 - mae: 8.7849\n",
      "Epoch 5/100\n",
      "2/2 [==============================] - 0s 6ms/step - loss: 10.7786 - mae: 10.7786\n",
      "Epoch 6/100\n",
      "2/2 [==============================] - 0s 6ms/step - loss: 9.9706 - mae: 9.9706\n",
      "Epoch 7/100\n",
      "2/2 [==============================] - 0s 6ms/step - loss: 9.0246 - mae: 9.0246\n",
      "Epoch 8/100\n",
      "2/2 [==============================] - 0s 7ms/step - loss: 9.1001 - mae: 9.1001\n",
      "Epoch 9/100\n",
      "2/2 [==============================] - 0s 5ms/step - loss: 19.8543 - mae: 19.8543\n",
      "Epoch 10/100\n"
     ]
    },
    {
     "name": "stderr",
     "output_type": "stream",
     "text": [
      "2023-04-14 10:58:00.347864: I tensorflow/core/grappler/optimizers/custom_graph_optimizer_registry.cc:113] Plugin optimizer for device_type GPU is enabled.\n"
     ]
    },
    {
     "name": "stdout",
     "output_type": "stream",
     "text": [
      "2/2 [==============================] - 0s 6ms/step - loss: 10.7407 - mae: 10.7407\n",
      "Epoch 11/100\n",
      "2/2 [==============================] - 0s 5ms/step - loss: 8.6583 - mae: 8.6583\n",
      "Epoch 12/100\n",
      "2/2 [==============================] - 0s 5ms/step - loss: 9.6455 - mae: 9.6455\n",
      "Epoch 13/100\n",
      "2/2 [==============================] - 0s 6ms/step - loss: 12.9489 - mae: 12.9489\n",
      "Epoch 14/100\n",
      "2/2 [==============================] - 0s 6ms/step - loss: 14.2558 - mae: 14.2558\n",
      "Epoch 15/100\n",
      "2/2 [==============================] - 0s 5ms/step - loss: 11.6631 - mae: 11.6631\n",
      "Epoch 16/100\n",
      "2/2 [==============================] - 0s 5ms/step - loss: 8.4863 - mae: 8.4863\n",
      "Epoch 17/100\n",
      "2/2 [==============================] - 0s 5ms/step - loss: 13.4904 - mae: 13.4904\n",
      "Epoch 18/100\n",
      "2/2 [==============================] - 0s 5ms/step - loss: 11.2773 - mae: 11.2773\n",
      "Epoch 19/100\n",
      "2/2 [==============================] - 0s 5ms/step - loss: 18.2722 - mae: 18.2722\n",
      "Epoch 20/100\n",
      "2/2 [==============================] - 0s 6ms/step - loss: 14.9808 - mae: 14.9808\n",
      "Epoch 21/100\n",
      "2/2 [==============================] - 0s 5ms/step - loss: 10.8644 - mae: 10.8644\n",
      "Epoch 22/100\n",
      "2/2 [==============================] - 0s 5ms/step - loss: 8.6162 - mae: 8.6162\n",
      "Epoch 23/100\n",
      "2/2 [==============================] - 0s 5ms/step - loss: 9.7280 - mae: 9.7280\n",
      "Epoch 24/100\n",
      "2/2 [==============================] - 0s 6ms/step - loss: 10.9755 - mae: 10.9755\n",
      "Epoch 25/100\n",
      "2/2 [==============================] - 0s 6ms/step - loss: 9.1808 - mae: 9.1808\n",
      "Epoch 26/100\n",
      "2/2 [==============================] - 0s 6ms/step - loss: 13.2130 - mae: 13.2130\n",
      "Epoch 27/100\n",
      "2/2 [==============================] - 0s 5ms/step - loss: 10.6854 - mae: 10.6854\n",
      "Epoch 28/100\n",
      "2/2 [==============================] - 0s 5ms/step - loss: 12.9067 - mae: 12.9067\n",
      "Epoch 29/100\n",
      "2/2 [==============================] - 0s 6ms/step - loss: 9.5293 - mae: 9.5293\n",
      "Epoch 30/100\n",
      "2/2 [==============================] - 0s 6ms/step - loss: 16.4295 - mae: 16.4295\n",
      "Epoch 31/100\n",
      "2/2 [==============================] - 0s 6ms/step - loss: 23.5768 - mae: 23.5768\n",
      "Epoch 32/100\n",
      "2/2 [==============================] - 0s 6ms/step - loss: 7.6277 - mae: 7.6277\n",
      "Epoch 33/100\n",
      "2/2 [==============================] - 0s 5ms/step - loss: 9.3240 - mae: 9.3240\n",
      "Epoch 34/100\n",
      "2/2 [==============================] - 0s 6ms/step - loss: 13.6926 - mae: 13.6926\n",
      "Epoch 35/100\n",
      "2/2 [==============================] - 0s 5ms/step - loss: 11.1751 - mae: 11.1751\n",
      "Epoch 36/100\n",
      "2/2 [==============================] - 0s 5ms/step - loss: 13.3957 - mae: 13.3957\n",
      "Epoch 37/100\n",
      "2/2 [==============================] - 0s 6ms/step - loss: 9.4697 - mae: 9.4697\n",
      "Epoch 38/100\n",
      "2/2 [==============================] - 0s 5ms/step - loss: 10.1220 - mae: 10.1220\n",
      "Epoch 39/100\n",
      "2/2 [==============================] - 0s 6ms/step - loss: 10.2272 - mae: 10.2272\n",
      "Epoch 40/100\n",
      "2/2 [==============================] - 0s 5ms/step - loss: 10.9708 - mae: 10.9708\n",
      "Epoch 41/100\n",
      "2/2 [==============================] - 0s 6ms/step - loss: 7.9481 - mae: 7.9481\n",
      "Epoch 42/100\n",
      "2/2 [==============================] - 0s 5ms/step - loss: 10.5999 - mae: 10.5999\n",
      "Epoch 43/100\n",
      "2/2 [==============================] - 0s 5ms/step - loss: 7.2302 - mae: 7.2302\n",
      "Epoch 44/100\n",
      "2/2 [==============================] - 0s 5ms/step - loss: 8.0133 - mae: 8.0133\n",
      "Epoch 45/100\n",
      "2/2 [==============================] - 0s 5ms/step - loss: 9.8067 - mae: 9.8067\n",
      "Epoch 46/100\n",
      "2/2 [==============================] - 0s 5ms/step - loss: 8.8818 - mae: 8.8818\n",
      "Epoch 47/100\n",
      "2/2 [==============================] - 0s 5ms/step - loss: 7.5933 - mae: 7.5933\n",
      "Epoch 48/100\n",
      "2/2 [==============================] - 0s 5ms/step - loss: 8.5958 - mae: 8.5958\n",
      "Epoch 49/100\n",
      "2/2 [==============================] - 0s 5ms/step - loss: 10.0117 - mae: 10.0117\n",
      "Epoch 50/100\n",
      "2/2 [==============================] - 0s 5ms/step - loss: 9.0478 - mae: 9.0478\n",
      "Epoch 51/100\n",
      "2/2 [==============================] - 0s 5ms/step - loss: 10.6806 - mae: 10.6806\n",
      "Epoch 52/100\n",
      "2/2 [==============================] - 0s 5ms/step - loss: 15.3175 - mae: 15.3175\n",
      "Epoch 53/100\n",
      "2/2 [==============================] - 0s 5ms/step - loss: 14.3355 - mae: 14.3355\n",
      "Epoch 54/100\n",
      "2/2 [==============================] - 0s 5ms/step - loss: 21.6332 - mae: 21.6332\n",
      "Epoch 55/100\n",
      "2/2 [==============================] - 0s 5ms/step - loss: 15.9912 - mae: 15.9912\n",
      "Epoch 56/100\n",
      "2/2 [==============================] - 0s 5ms/step - loss: 10.3096 - mae: 10.3096\n",
      "Epoch 57/100\n",
      "2/2 [==============================] - 0s 5ms/step - loss: 9.7814 - mae: 9.7814\n",
      "Epoch 58/100\n",
      "2/2 [==============================] - 0s 5ms/step - loss: 9.0684 - mae: 9.0684\n",
      "Epoch 59/100\n",
      "2/2 [==============================] - 0s 4ms/step - loss: 8.2705 - mae: 8.2705\n",
      "Epoch 60/100\n",
      "2/2 [==============================] - 0s 5ms/step - loss: 9.3705 - mae: 9.3705\n",
      "Epoch 61/100\n",
      "2/2 [==============================] - 0s 5ms/step - loss: 11.1767 - mae: 11.1767\n",
      "Epoch 62/100\n",
      "2/2 [==============================] - 0s 5ms/step - loss: 12.0989 - mae: 12.0989\n",
      "Epoch 63/100\n",
      "2/2 [==============================] - 0s 5ms/step - loss: 7.2860 - mae: 7.2860\n",
      "Epoch 64/100\n",
      "2/2 [==============================] - 0s 5ms/step - loss: 12.4373 - mae: 12.4373\n",
      "Epoch 65/100\n",
      "2/2 [==============================] - 0s 5ms/step - loss: 10.5126 - mae: 10.5126\n",
      "Epoch 66/100\n",
      "2/2 [==============================] - 0s 5ms/step - loss: 15.6306 - mae: 15.6306\n",
      "Epoch 67/100\n",
      "2/2 [==============================] - 0s 5ms/step - loss: 10.0330 - mae: 10.0330\n",
      "Epoch 68/100\n",
      "2/2 [==============================] - 0s 5ms/step - loss: 8.7417 - mae: 8.7417\n",
      "Epoch 69/100\n",
      "2/2 [==============================] - 0s 5ms/step - loss: 13.5090 - mae: 13.5090\n",
      "Epoch 70/100\n",
      "2/2 [==============================] - 0s 6ms/step - loss: 7.4879 - mae: 7.4879\n",
      "Epoch 71/100\n",
      "2/2 [==============================] - 0s 5ms/step - loss: 12.2394 - mae: 12.2394\n",
      "Epoch 72/100\n",
      "2/2 [==============================] - 0s 6ms/step - loss: 8.5538 - mae: 8.5538\n",
      "Epoch 73/100\n",
      "2/2 [==============================] - 0s 5ms/step - loss: 7.0581 - mae: 7.0581\n",
      "Epoch 74/100\n",
      "2/2 [==============================] - 0s 5ms/step - loss: 9.9529 - mae: 9.9529\n",
      "Epoch 75/100\n",
      "2/2 [==============================] - 0s 5ms/step - loss: 9.9511 - mae: 9.9511\n",
      "Epoch 76/100\n",
      "2/2 [==============================] - 0s 6ms/step - loss: 10.1185 - mae: 10.1185\n",
      "Epoch 77/100\n",
      "2/2 [==============================] - 0s 5ms/step - loss: 12.9599 - mae: 12.9599\n",
      "Epoch 78/100\n",
      "2/2 [==============================] - 0s 5ms/step - loss: 11.1676 - mae: 11.1676\n",
      "Epoch 79/100\n",
      "2/2 [==============================] - 0s 5ms/step - loss: 14.7209 - mae: 14.7209\n",
      "Epoch 80/100\n",
      "2/2 [==============================] - 0s 5ms/step - loss: 8.9394 - mae: 8.9394\n",
      "Epoch 81/100\n",
      "2/2 [==============================] - 0s 5ms/step - loss: 10.7811 - mae: 10.7811\n",
      "Epoch 82/100\n",
      "2/2 [==============================] - 0s 5ms/step - loss: 8.4109 - mae: 8.4109\n",
      "Epoch 83/100\n",
      "2/2 [==============================] - 0s 5ms/step - loss: 9.2377 - mae: 9.2377\n",
      "Epoch 84/100\n",
      "2/2 [==============================] - 0s 5ms/step - loss: 8.9587 - mae: 8.9587\n",
      "Epoch 85/100\n",
      "2/2 [==============================] - 0s 5ms/step - loss: 13.1990 - mae: 13.1990\n",
      "Epoch 86/100\n",
      "2/2 [==============================] - 0s 5ms/step - loss: 13.7214 - mae: 13.7214\n",
      "Epoch 87/100\n",
      "2/2 [==============================] - 0s 5ms/step - loss: 13.2061 - mae: 13.2061\n",
      "Epoch 88/100\n",
      "2/2 [==============================] - 0s 5ms/step - loss: 11.5340 - mae: 11.5340\n",
      "Epoch 89/100\n",
      "2/2 [==============================] - 0s 5ms/step - loss: 7.8230 - mae: 7.8230\n",
      "Epoch 90/100\n",
      "2/2 [==============================] - 0s 5ms/step - loss: 10.9502 - mae: 10.9502\n",
      "Epoch 91/100\n",
      "2/2 [==============================] - 0s 5ms/step - loss: 6.7679 - mae: 6.7679\n",
      "Epoch 92/100\n",
      "2/2 [==============================] - 0s 5ms/step - loss: 10.1430 - mae: 10.1430\n",
      "Epoch 93/100\n",
      "2/2 [==============================] - 0s 5ms/step - loss: 7.6220 - mae: 7.6220\n",
      "Epoch 94/100\n",
      "2/2 [==============================] - 0s 5ms/step - loss: 9.2550 - mae: 9.2550\n",
      "Epoch 95/100\n",
      "2/2 [==============================] - 0s 5ms/step - loss: 10.8426 - mae: 10.8426\n",
      "Epoch 96/100\n",
      "2/2 [==============================] - 0s 5ms/step - loss: 10.3136 - mae: 10.3136\n",
      "Epoch 97/100\n"
     ]
    },
    {
     "name": "stdout",
     "output_type": "stream",
     "text": [
      "2/2 [==============================] - 0s 5ms/step - loss: 7.6930 - mae: 7.6930\n",
      "Epoch 98/100\n",
      "2/2 [==============================] - 0s 5ms/step - loss: 8.6294 - mae: 8.6294\n",
      "Epoch 99/100\n",
      "2/2 [==============================] - 0s 5ms/step - loss: 9.4080 - mae: 9.4080\n",
      "Epoch 100/100\n",
      "2/2 [==============================] - 0s 5ms/step - loss: 8.8543 - mae: 8.8543\n"
     ]
    },
    {
     "data": {
      "text/plain": [
       "<keras.callbacks.History at 0x284dcc580>"
      ]
     },
     "execution_count": 113,
     "metadata": {},
     "output_type": "execute_result"
    }
   ],
   "source": [
    "model = tf.keras.Sequential([\n",
    "    tf.keras.layers.Dense(1)\n",
    "])\n",
    "\n",
    "model.compile(loss=tf.keras.losses.mae,\n",
    "             optimizer=tf.keras.optimizers.SGD(),\n",
    "             metrics=[\"mae\"])\n",
    "\n",
    "model.fit(tf.expand_dims(X_train,axis=-1), y_train, epochs=100)"
   ]
  },
  {
   "cell_type": "code",
   "execution_count": 99,
   "id": "6e36105e",
   "metadata": {},
   "outputs": [
    {
     "data": {
      "image/png": "[encoded data removed]",
      "text/plain": [
       "<IPython.core.display.Image object>"
      ]
     },
     "execution_count": 99,
     "metadata": {},
     "output_type": "execute_result"
    }
   ],
   "source": [
    "from tensorflow.keras.utils import plot_model\n",
    "plot_model(model=model, show_shapes=True)"
   ]
  },
  {
   "cell_type": "code",
   "execution_count": 114,
   "id": "ebd630c7",
   "metadata": {},
   "outputs": [
    {
     "name": "stdout",
     "output_type": "stream",
     "text": [
      "1/1 [==============================] - 0s 35ms/step\n"
     ]
    },
    {
     "name": "stderr",
     "output_type": "stream",
     "text": [
      "2023-04-14 10:58:02.356777: I tensorflow/core/grappler/optimizers/custom_graph_optimizer_registry.cc:113] Plugin optimizer for device_type GPU is enabled.\n"
     ]
    },
    {
     "data": {
      "text/plain": [
       "array([[ 74.57423 ],\n",
       "       [ 79.46072 ],\n",
       "       [ 84.347206],\n",
       "       [ 89.233696],\n",
       "       [ 94.120186],\n",
       "       [ 99.006676],\n",
       "       [103.893166],\n",
       "       [108.779655],\n",
       "       [113.666145],\n",
       "       [118.552635]], dtype=float32)"
      ]
     },
     "execution_count": 114,
     "metadata": {},
     "output_type": "execute_result"
    }
   ],
   "source": [
    "#Visualising the predictions\n",
    "y_pred = model.predict(X_test)\n",
    "y_pred"
   ]
  },
  {
   "cell_type": "code",
   "execution_count": 115,
   "id": "a57529fa",
   "metadata": {},
   "outputs": [],
   "source": [
    "#Creating a plotting function\n",
    "def plot_pred(train_data=X_train,\n",
    "             train_label=y_train,\n",
    "             test_data=X_test,\n",
    "             test_label=y_test,\n",
    "             predictions=y_pred):\n",
    "    plt.figure(figsize=(10,8))\n",
    "    plt.scatter(train_data, train_label, c='b', label=\"Training data\")\n",
    "    plt.scatter(test_data, test_label, c='g', label=\"testing data\")\n",
    "    plt.scatter(test_data, predictions, c='r', label=\"Prediction data\")\n",
    "    plt.legend()"
   ]
  },
  {
   "cell_type": "code",
   "execution_count": 116,
   "id": "f25050c5",
   "metadata": {},
   "outputs": [
    {
     "data": {
      "image/png": "[encoded data removed]",
      "text/plain": [
       "<Figure size 1000x800 with 1 Axes>"
      ]
     },
     "metadata": {},
     "output_type": "display_data"
    }
   ],
   "source": [
    "plot_pred()"
   ]
  },
  {
   "cell_type": "code",
   "execution_count": null,
   "id": "2f6e61af",
   "metadata": {},
   "outputs": [],
   "source": []
  }
 ],
 "metadata": {
  "kernelspec": {
   "display_name": "Python 3 (ipykernel)",
   "language": "python",
   "name": "python3"
  },
  "language_info": {
   "codemirror_mode": {
    "name": "ipython",
    "version": 3
   },
   "file_extension": ".py",
   "mimetype": "text/x-python",
   "name": "python",
   "nbconvert_exporter": "python",
   "pygments_lexer": "ipython3",
   "version": "3.9.16"
  }
 },
 "nbformat": 4,
 "nbformat_minor": 5
}
