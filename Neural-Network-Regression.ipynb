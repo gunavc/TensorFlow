{
 "cells": [
  {
   "cell_type": "code",
   "execution_count": 1,
   "id": "1a7a0454",
   "metadata": {},
   "outputs": [
    {
     "data": {
      "text/plain": [
       "'2.9.0'"
      ]
     },
     "execution_count": 1,
     "metadata": {},
     "output_type": "execute_result"
    }
   ],
   "source": [
    "import tensorflow as tf\n",
    "tf.__version__"
   ]
  },
  {
   "cell_type": "code",
   "execution_count": 2,
   "id": "23e73020",
   "metadata": {
    "scrolled": false
   },
   "outputs": [
    {
     "data": {
      "text/plain": [
       "<matplotlib.collections.PathCollection at 0x14ef64670>"
      ]
     },
     "execution_count": 2,
     "metadata": {},
     "output_type": "execute_result"
    },
    {
     "data": {
      "image/png": "[encoded data removed]",
      "text/plain": [
       "<Figure size 640x480 with 1 Axes>"
      ]
     },
     "metadata": {},
     "output_type": "display_data"
    }
   ],
   "source": [
    "#Creating data to visualize\n",
    "\n",
    "import numpy as np\n",
    "import matplotlib.pyplot as plt\n",
    "\n",
    "#Creating features\n",
    "X = np.array([-7.0,-4.0,-1.0,2.0,5.0,8.0,11.0,14.0])\n",
    "\n",
    "#Creating labels\n",
    "y = np.array([3.0,6.0,9.0,12.0,15.0,18.0,21.0,24.0])\n",
    "\n",
    "#Visaulizing\n",
    "plt.scatter(X,y)"
   ]
  },
  {
   "cell_type": "code",
   "execution_count": 3,
   "id": "adaf22b1",
   "metadata": {},
   "outputs": [
    {
     "name": "stdout",
     "output_type": "stream",
     "text": [
      "Metal device set to: Apple M1 Max\n"
     ]
    },
    {
     "name": "stderr",
     "output_type": "stream",
     "text": [
      "2023-04-07 15:04:00.767183: I tensorflow/core/common_runtime/pluggable_device/pluggable_device_factory.cc:305] Could not identify NUMA node of platform GPU ID 0, defaulting to 0. Your kernel may not have been built with NUMA support.\n",
      "2023-04-07 15:04:00.767369: I tensorflow/core/common_runtime/pluggable_device/pluggable_device_factory.cc:271] Created TensorFlow device (/job:localhost/replica:0/task:0/device:GPU:0 with 0 MB memory) -> physical PluggableDevice (device: 0, name: METAL, pci bus id: <undefined>)\n"
     ]
    }
   ],
   "source": [
    "#Converting NumPy array to tensors\n",
    "X = tf.constant(X)\n",
    "y = tf.constant(y)"
   ]
  },
  {
   "cell_type": "code",
   "execution_count": 4,
   "id": "b14db8d0",
   "metadata": {},
   "outputs": [],
   "source": [
    "tf.random.set_seed(42)"
   ]
  },
  {
   "cell_type": "code",
   "execution_count": 17,
   "id": "7013e26e",
   "metadata": {
    "scrolled": false
   },
   "outputs": [
    {
     "name": "stdout",
     "output_type": "stream",
     "text": [
      "Epoch 1/10\n",
      "1/1 [==============================] - 0s 127ms/step - loss: 10.5736 - mae: 10.5736\n",
      "Epoch 2/10\n",
      "1/1 [==============================] - 0s 6ms/step - loss: 10.4411 - mae: 10.4411\n",
      "Epoch 3/10\n",
      "1/1 [==============================] - 0s 6ms/step - loss: 10.3086 - mae: 10.3086\n",
      "Epoch 4/10\n",
      "1/1 [==============================] - 0s 7ms/step - loss: 10.1761 - mae: 10.1761\n",
      "Epoch 5/10\n",
      "1/1 [==============================] - 0s 7ms/step - loss: 10.0436 - mae: 10.0436\n",
      "Epoch 6/10\n",
      "1/1 [==============================] - 0s 6ms/step - loss: 9.9111 - mae: 9.9111\n",
      "Epoch 7/10\n",
      "1/1 [==============================] - 0s 7ms/step - loss: 9.7786 - mae: 9.7786\n",
      "Epoch 8/10\n",
      "1/1 [==============================] - 0s 6ms/step - loss: 9.6461 - mae: 9.6461\n",
      "Epoch 9/10\n",
      "1/1 [==============================] - 0s 6ms/step - loss: 9.5136 - mae: 9.5136\n",
      "Epoch 10/10\n",
      "1/1 [==============================] - 0s 6ms/step - loss: 9.3811 - mae: 9.3811\n"
     ]
    },
    {
     "name": "stderr",
     "output_type": "stream",
     "text": [
      "2023-04-07 15:05:47.212572: I tensorflow/core/grappler/optimizers/custom_graph_optimizer_registry.cc:113] Plugin optimizer for device_type GPU is enabled.\n"
     ]
    },
    {
     "data": {
      "text/plain": [
       "<keras.callbacks.History at 0x14faa28b0>"
      ]
     },
     "execution_count": 17,
     "metadata": {},
     "output_type": "execute_result"
    }
   ],
   "source": [
    "#Modelling with TensorFlow\n",
    "\n",
    "#Creating the model\n",
    "#using sequential API\n",
    "model = tf.keras.Sequential([\n",
    "    tf.keras.layers.Dense(1)\n",
    "])\n",
    "\n",
    "#Compiling the model - Loss function and optimizer and evaluation\\\n",
    "model.compile(loss=tf.keras.losses.mae,\n",
    "             optimizer=tf.keras.optimizers.SGD(),\n",
    "             metrics=[\"mae\"])\n",
    "\n",
    "#Fitting the model\n",
    "model.fit(tf.expand_dims(X,axis=-1), y, epochs=10)"
   ]
  },
  {
   "cell_type": "code",
   "execution_count": 20,
   "id": "a04af5ba",
   "metadata": {},
   "outputs": [
    {
     "name": "stdout",
     "output_type": "stream",
     "text": [
      "1/1 [==============================] - 0s 20ms/step\n"
     ]
    },
    {
     "data": {
      "text/plain": [
       "array([[20.264084]], dtype=float32)"
      ]
     },
     "execution_count": 20,
     "metadata": {},
     "output_type": "execute_result"
    }
   ],
   "source": [
    "#making a predicion from the model\n",
    "model.predict([17.0])"
   ]
  },
  {
   "cell_type": "code",
   "execution_count": 51,
   "id": "211462aa",
   "metadata": {},
   "outputs": [
    {
     "name": "stdout",
     "output_type": "stream",
     "text": [
      "Epoch 1/100\n",
      "1/1 [==============================] - 0s 203ms/step - loss: 12.8472 - mae: 12.8472\n",
      "Epoch 2/100\n",
      "1/1 [==============================] - 0s 9ms/step - loss: 10.6294 - mae: 10.6294\n",
      "Epoch 3/100\n",
      "1/1 [==============================] - 0s 10ms/step - loss: 9.1578 - mae: 9.1578\n",
      "Epoch 4/100\n",
      "1/1 [==============================] - 0s 8ms/step - loss: 7.5923 - mae: 7.5923\n",
      "Epoch 5/100\n",
      "1/1 [==============================] - 0s 7ms/step - loss: 5.7677 - mae: 5.7677\n",
      "Epoch 6/100\n",
      "1/1 [==============================] - 0s 7ms/step - loss: 4.0178 - mae: 4.0178\n",
      "Epoch 7/100\n",
      "1/1 [==============================] - 0s 8ms/step - loss: 4.7509 - mae: 4.7509\n",
      "Epoch 8/100\n",
      "1/1 [==============================] - 0s 8ms/step - loss: 5.5840 - mae: 5.5840\n",
      "Epoch 9/100\n",
      "1/1 [==============================] - 0s 9ms/step - loss: 5.7886 - mae: 5.7886\n",
      "Epoch 10/100\n",
      "1/1 [==============================] - 0s 7ms/step - loss: 5.6107 - mae: 5.6107\n",
      "Epoch 11/100\n",
      "1/1 [==============================] - 0s 7ms/step - loss: 5.1456 - mae: 5.1456\n",
      "Epoch 12/100\n"
     ]
    },
    {
     "name": "stderr",
     "output_type": "stream",
     "text": [
      "2023-04-07 15:42:39.808752: I tensorflow/core/grappler/optimizers/custom_graph_optimizer_registry.cc:113] Plugin optimizer for device_type GPU is enabled.\n"
     ]
    },
    {
     "name": "stdout",
     "output_type": "stream",
     "text": [
      "1/1 [==============================] - 0s 8ms/step - loss: 4.4865 - mae: 4.4865\n",
      "Epoch 13/100\n",
      "1/1 [==============================] - 0s 8ms/step - loss: 3.9026 - mae: 3.9026\n",
      "Epoch 14/100\n",
      "1/1 [==============================] - 0s 8ms/step - loss: 3.6141 - mae: 3.6141\n",
      "Epoch 15/100\n",
      "1/1 [==============================] - 0s 7ms/step - loss: 3.7806 - mae: 3.7806\n",
      "Epoch 16/100\n",
      "1/1 [==============================] - 0s 7ms/step - loss: 4.0433 - mae: 4.0433\n",
      "Epoch 17/100\n",
      "1/1 [==============================] - 0s 7ms/step - loss: 3.9111 - mae: 3.9111\n",
      "Epoch 18/100\n",
      "1/1 [==============================] - 0s 7ms/step - loss: 3.5053 - mae: 3.5053\n",
      "Epoch 19/100\n",
      "1/1 [==============================] - 0s 8ms/step - loss: 3.2642 - mae: 3.2642\n",
      "Epoch 20/100\n",
      "1/1 [==============================] - 0s 8ms/step - loss: 3.2935 - mae: 3.2935\n",
      "Epoch 21/100\n",
      "1/1 [==============================] - 0s 7ms/step - loss: 3.2702 - mae: 3.2702\n",
      "Epoch 22/100\n",
      "1/1 [==============================] - 0s 7ms/step - loss: 3.1949 - mae: 3.1949\n",
      "Epoch 23/100\n",
      "1/1 [==============================] - 0s 7ms/step - loss: 3.0297 - mae: 3.0297\n",
      "Epoch 24/100\n",
      "1/1 [==============================] - 0s 7ms/step - loss: 2.8633 - mae: 2.8633\n",
      "Epoch 25/100\n",
      "1/1 [==============================] - 0s 7ms/step - loss: 2.6718 - mae: 2.6718\n",
      "Epoch 26/100\n",
      "1/1 [==============================] - 0s 7ms/step - loss: 2.4996 - mae: 2.4996\n",
      "Epoch 27/100\n",
      "1/1 [==============================] - 0s 8ms/step - loss: 2.2714 - mae: 2.2714\n",
      "Epoch 28/100\n",
      "1/1 [==============================] - 0s 7ms/step - loss: 2.0827 - mae: 2.0827\n",
      "Epoch 29/100\n",
      "1/1 [==============================] - 0s 8ms/step - loss: 1.9258 - mae: 1.9258\n",
      "Epoch 30/100\n",
      "1/1 [==============================] - 0s 7ms/step - loss: 1.5781 - mae: 1.5781\n",
      "Epoch 31/100\n",
      "1/1 [==============================] - 0s 8ms/step - loss: 1.2671 - mae: 1.2671\n",
      "Epoch 32/100\n",
      "1/1 [==============================] - 0s 7ms/step - loss: 1.0985 - mae: 1.0985\n",
      "Epoch 33/100\n",
      "1/1 [==============================] - 0s 8ms/step - loss: 0.8475 - mae: 0.8475\n",
      "Epoch 34/100\n",
      "1/1 [==============================] - 0s 8ms/step - loss: 0.7622 - mae: 0.7622\n",
      "Epoch 35/100\n",
      "1/1 [==============================] - 0s 8ms/step - loss: 0.1891 - mae: 0.1891\n",
      "Epoch 36/100\n",
      "1/1 [==============================] - 0s 8ms/step - loss: 0.9986 - mae: 0.9986\n",
      "Epoch 37/100\n",
      "1/1 [==============================] - 0s 7ms/step - loss: 0.7429 - mae: 0.7429\n",
      "Epoch 38/100\n",
      "1/1 [==============================] - 0s 8ms/step - loss: 1.2790 - mae: 1.2790\n",
      "Epoch 39/100\n",
      "1/1 [==============================] - 0s 7ms/step - loss: 1.2131 - mae: 1.2131\n",
      "Epoch 40/100\n",
      "1/1 [==============================] - 0s 7ms/step - loss: 1.1384 - mae: 1.1384\n",
      "Epoch 41/100\n",
      "1/1 [==============================] - 0s 8ms/step - loss: 1.3255 - mae: 1.3255\n",
      "Epoch 42/100\n",
      "1/1 [==============================] - 0s 7ms/step - loss: 0.9862 - mae: 0.9862\n",
      "Epoch 43/100\n",
      "1/1 [==============================] - 0s 8ms/step - loss: 0.7037 - mae: 0.7037\n",
      "Epoch 44/100\n",
      "1/1 [==============================] - 0s 7ms/step - loss: 0.6406 - mae: 0.6406\n",
      "Epoch 45/100\n",
      "1/1 [==============================] - 0s 7ms/step - loss: 0.5516 - mae: 0.5516\n",
      "Epoch 46/100\n",
      "1/1 [==============================] - 0s 7ms/step - loss: 0.3826 - mae: 0.3826\n",
      "Epoch 47/100\n",
      "1/1 [==============================] - 0s 7ms/step - loss: 0.5311 - mae: 0.5311\n",
      "Epoch 48/100\n",
      "1/1 [==============================] - 0s 8ms/step - loss: 0.3101 - mae: 0.3101\n",
      "Epoch 49/100\n",
      "1/1 [==============================] - 0s 7ms/step - loss: 0.6862 - mae: 0.6862\n",
      "Epoch 50/100\n",
      "1/1 [==============================] - 0s 7ms/step - loss: 0.5188 - mae: 0.5188\n",
      "Epoch 51/100\n",
      "1/1 [==============================] - 0s 7ms/step - loss: 0.6367 - mae: 0.6367\n",
      "Epoch 52/100\n",
      "1/1 [==============================] - 0s 8ms/step - loss: 0.7563 - mae: 0.7563\n",
      "Epoch 53/100\n",
      "1/1 [==============================] - 0s 8ms/step - loss: 0.3528 - mae: 0.3528\n",
      "Epoch 54/100\n",
      "1/1 [==============================] - 0s 8ms/step - loss: 1.0391 - mae: 1.0391\n",
      "Epoch 55/100\n",
      "1/1 [==============================] - 0s 8ms/step - loss: 1.3067 - mae: 1.3067\n",
      "Epoch 56/100\n",
      "1/1 [==============================] - 0s 7ms/step - loss: 1.0114 - mae: 1.0114\n",
      "Epoch 57/100\n",
      "1/1 [==============================] - 0s 8ms/step - loss: 0.2390 - mae: 0.2390\n",
      "Epoch 58/100\n",
      "1/1 [==============================] - 0s 7ms/step - loss: 0.8264 - mae: 0.8264\n",
      "Epoch 59/100\n",
      "1/1 [==============================] - 0s 7ms/step - loss: 0.8683 - mae: 0.8683\n",
      "Epoch 60/100\n",
      "1/1 [==============================] - 0s 7ms/step - loss: 0.3293 - mae: 0.3293\n",
      "Epoch 61/100\n",
      "1/1 [==============================] - 0s 8ms/step - loss: 0.8600 - mae: 0.8600\n",
      "Epoch 62/100\n",
      "1/1 [==============================] - 0s 7ms/step - loss: 1.1589 - mae: 1.1589\n",
      "Epoch 63/100\n",
      "1/1 [==============================] - 0s 8ms/step - loss: 0.9012 - mae: 0.9012\n",
      "Epoch 64/100\n",
      "1/1 [==============================] - 0s 7ms/step - loss: 0.1518 - mae: 0.1518\n",
      "Epoch 65/100\n",
      "1/1 [==============================] - 0s 7ms/step - loss: 1.1085 - mae: 1.1085\n",
      "Epoch 66/100\n",
      "1/1 [==============================] - 0s 7ms/step - loss: 1.5298 - mae: 1.5298\n",
      "Epoch 67/100\n",
      "1/1 [==============================] - 0s 7ms/step - loss: 1.2962 - mae: 1.2962\n",
      "Epoch 68/100\n",
      "1/1 [==============================] - 0s 7ms/step - loss: 0.4677 - mae: 0.4677\n",
      "Epoch 69/100\n",
      "1/1 [==============================] - 0s 7ms/step - loss: 0.8369 - mae: 0.8369\n",
      "Epoch 70/100\n",
      "1/1 [==============================] - 0s 7ms/step - loss: 1.3978 - mae: 1.3978\n",
      "Epoch 71/100\n",
      "1/1 [==============================] - 0s 7ms/step - loss: 1.3918 - mae: 1.3918\n",
      "Epoch 72/100\n",
      "1/1 [==============================] - 0s 7ms/step - loss: 0.8691 - mae: 0.8691\n",
      "Epoch 73/100\n",
      "1/1 [==============================] - 0s 7ms/step - loss: 0.2055 - mae: 0.2055\n",
      "Epoch 74/100\n",
      "1/1 [==============================] - 0s 7ms/step - loss: 0.5602 - mae: 0.5602\n",
      "Epoch 75/100\n",
      "1/1 [==============================] - 0s 7ms/step - loss: 0.2997 - mae: 0.2997\n",
      "Epoch 76/100\n",
      "1/1 [==============================] - 0s 7ms/step - loss: 0.6661 - mae: 0.6661\n",
      "Epoch 77/100\n",
      "1/1 [==============================] - 0s 7ms/step - loss: 0.7815 - mae: 0.7815\n",
      "Epoch 78/100\n",
      "1/1 [==============================] - 0s 8ms/step - loss: 0.4711 - mae: 0.4711\n",
      "Epoch 79/100\n",
      "1/1 [==============================] - 0s 8ms/step - loss: 0.4471 - mae: 0.4471\n",
      "Epoch 80/100\n",
      "1/1 [==============================] - 0s 7ms/step - loss: 0.5346 - mae: 0.5346\n",
      "Epoch 81/100\n",
      "1/1 [==============================] - 0s 8ms/step - loss: 0.2245 - mae: 0.2245\n",
      "Epoch 82/100\n",
      "1/1 [==============================] - 0s 8ms/step - loss: 0.5954 - mae: 0.5954\n",
      "Epoch 83/100\n",
      "1/1 [==============================] - 0s 7ms/step - loss: 0.6812 - mae: 0.6812\n",
      "Epoch 84/100\n",
      "1/1 [==============================] - 0s 7ms/step - loss: 0.3490 - mae: 0.3490\n",
      "Epoch 85/100\n",
      "1/1 [==============================] - 0s 7ms/step - loss: 0.5327 - mae: 0.5327\n",
      "Epoch 86/100\n",
      "1/1 [==============================] - 0s 7ms/step - loss: 0.6999 - mae: 0.6999\n",
      "Epoch 87/100\n",
      "1/1 [==============================] - 0s 7ms/step - loss: 0.3494 - mae: 0.3494\n",
      "Epoch 88/100\n",
      "1/1 [==============================] - 0s 7ms/step - loss: 0.5971 - mae: 0.5971\n",
      "Epoch 89/100\n",
      "1/1 [==============================] - 0s 8ms/step - loss: 0.7689 - mae: 0.7689\n",
      "Epoch 90/100\n",
      "1/1 [==============================] - 0s 7ms/step - loss: 0.5019 - mae: 0.5019\n",
      "Epoch 91/100\n",
      "1/1 [==============================] - 0s 8ms/step - loss: 0.4623 - mae: 0.4623\n",
      "Epoch 92/100\n",
      "1/1 [==============================] - 0s 7ms/step - loss: 0.5004 - mae: 0.5004\n",
      "Epoch 93/100\n",
      "1/1 [==============================] - 0s 7ms/step - loss: 0.2562 - mae: 0.2562\n",
      "Epoch 94/100\n",
      "1/1 [==============================] - 0s 7ms/step - loss: 0.6029 - mae: 0.6029\n",
      "Epoch 95/100\n",
      "1/1 [==============================] - 0s 7ms/step - loss: 0.5979 - mae: 0.5979\n",
      "Epoch 96/100\n",
      "1/1 [==============================] - 0s 7ms/step - loss: 0.0999 - mae: 0.0999\n",
      "Epoch 97/100\n",
      "1/1 [==============================] - 0s 7ms/step - loss: 0.6597 - mae: 0.6597\n",
      "Epoch 98/100\n",
      "1/1 [==============================] - 0s 7ms/step - loss: 0.7832 - mae: 0.7832\n",
      "Epoch 99/100\n",
      "1/1 [==============================] - 0s 7ms/step - loss: 0.3436 - mae: 0.3436\n",
      "Epoch 100/100\n"
     ]
    },
    {
     "name": "stdout",
     "output_type": "stream",
     "text": [
      "1/1 [==============================] - ETA: 0s - loss: 0.7992 - mae: 0.7992\b\b\b\b\b\b\b\b\b\b\b\b\b\b\b\b\b\b\b\b\b\b\b\b\b\b\b\b\b\b\b\b\b\b\b\b\b\b\b\b\b\b\b\b\b\b\b\b\b\b\b\b\b\b\b\b\b\b\b\b\b\b\b\b\b\b\b\b\b\b\b\b\b\b\b\r",
      "1/1 [==============================] - 0s 7ms/step - loss: 0.7992 - mae: 0.7992\n"
     ]
    },
    {
     "data": {
      "text/plain": [
       "<keras.callbacks.History at 0x292b11af0>"
      ]
     },
     "execution_count": 51,
     "metadata": {},
     "output_type": "execute_result"
    }
   ],
   "source": [
    "#IMPROVING THE MODEL\n",
    "#THE MODEL DOESNT ALWAYS IMPROVE\n",
    "\n",
    "#Alterting the creation(More Layers, Activation Function)\n",
    "model = tf.keras.Sequential([\n",
    "    tf.keras.layers.Dense(100, activation=\"relu\"),\n",
    "    tf.keras.layers.Dense(100, activation=\"relu\"),\n",
    "    tf.keras.layers.Dense(1)\n",
    "])\n",
    "\n",
    "#Altering the compile(Different Optimizers)\n",
    "model.compile(loss=tf.keras.losses.mae,\n",
    "             optimizer=tf.keras.optimizers.Adam(lr=0.01),\n",
    "             metrics=[\"mae\"])\n",
    "\n",
    "#Altering the fit(Increasing Epochs)\n",
    "model.fit(tf.expand_dims(X,axis=-1), y, epochs=100)"
   ]
  },
  {
   "cell_type": "code",
   "execution_count": 52,
   "id": "7c74a245",
   "metadata": {},
   "outputs": [
    {
     "name": "stdout",
     "output_type": "stream",
     "text": [
      "1/1 [==============================] - 0s 52ms/step\n"
     ]
    },
    {
     "name": "stderr",
     "output_type": "stream",
     "text": [
      "2023-04-07 15:42:42.184982: I tensorflow/core/grappler/optimizers/custom_graph_optimizer_registry.cc:113] Plugin optimizer for device_type GPU is enabled.\n"
     ]
    },
    {
     "data": {
      "text/plain": [
       "array([[24.264828]], dtype=float32)"
      ]
     },
     "execution_count": 52,
     "metadata": {},
     "output_type": "execute_result"
    }
   ],
   "source": [
    "model.predict([17.0])"
   ]
  },
  {
   "cell_type": "code",
   "execution_count": 58,
   "id": "63d3c0f7",
   "metadata": {},
   "outputs": [
    {
     "data": {
      "text/plain": [
       "<matplotlib.collections.PathCollection at 0x2b9759700>"
      ]
     },
     "execution_count": 58,
     "metadata": {},
     "output_type": "execute_result"
    },
    {
     "data": {
      "image/png": "[encoded data removed]",
      "text/plain": [
       "<Figure size 640x480 with 1 Axes>"
      ]
     },
     "metadata": {},
     "output_type": "display_data"
    }
   ],
   "source": [
    "#EVALUATING A MODEL\n",
    "\n",
    "#Creating a bigger data\n",
    "X = tf.range(-100,100,4)\n",
    "y = X + 10\n",
    "\n",
    "plt.scatter(X,y)"
   ]
  },
  {
   "cell_type": "code",
   "execution_count": 60,
   "id": "6d08833c",
   "metadata": {},
   "outputs": [
    {
     "data": {
      "text/plain": [
       "(40, 10)"
      ]
     },
     "execution_count": 60,
     "metadata": {},
     "output_type": "execute_result"
    }
   ],
   "source": [
    "#Splitting the data into train and test sets\n",
    "X_train = X[:40] #80%\n",
    "X_test = X[40:] #20%\n",
    "\n",
    "y_train = y[:40]\n",
    "y_test = y[40:]\n",
    "\n",
    "len(X_train), len(X_test)"
   ]
  },
  {
   "cell_type": "code",
   "execution_count": 66,
   "id": "eb6460c0",
   "metadata": {
    "scrolled": false
   },
   "outputs": [
    {
     "data": {
      "text/plain": [
       "<matplotlib.legend.Legend at 0x2bb453be0>"
      ]
     },
     "execution_count": 66,
     "metadata": {},
     "output_type": "execute_result"
    },
    {
     "data": {
      "image/png": "[encoded data removed]",
      "text/plain": [
       "<Figure size 1000x700 with 1 Axes>"
      ]
     },
     "metadata": {},
     "output_type": "display_data"
    }
   ],
   "source": [
    "#Visualizing the data\n",
    "plt.figure(figsize=(10,7))\n",
    "plt.scatter(X_train, y_train, c=\"b\", label=\"Training Data\")\n",
    "plt.scatter(X_test, y_test, c=\"g\", label=\"Testing Data\")\n",
    "\n",
    "plt.legend()"
   ]
  },
  {
   "cell_type": "code",
   "execution_count": null,
   "id": "fba549a5",
   "metadata": {},
   "outputs": [],
   "source": []
  }
 ],
 "metadata": {
  "kernelspec": {
   "display_name": "Python 3 (ipykernel)",
   "language": "python",
   "name": "python3"
  },
  "language_info": {
   "codemirror_mode": {
    "name": "ipython",
    "version": 3
   },
   "file_extension": ".py",
   "mimetype": "text/x-python",
   "name": "python",
   "nbconvert_exporter": "python",
   "pygments_lexer": "ipython3",
   "version": "3.9.16"
  }
 },
 "nbformat": 4,
 "nbformat_minor": 5
}
