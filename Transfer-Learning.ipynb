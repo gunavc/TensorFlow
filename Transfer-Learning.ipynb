{
 "cells": [
  {
   "cell_type": "code",
   "execution_count": 3,
   "id": "f05a1b46",
   "metadata": {},
   "outputs": [],
   "source": [
    "###FEATURE EXTRACTION\n",
    "\n",
    "import tensorflow as tf\n",
    "from tensorflow.keras.preprocessing.image import ImageDataGenerator"
   ]
  },
  {
   "cell_type": "code",
   "execution_count": 4,
   "id": "adf54c4e",
   "metadata": {},
   "outputs": [
    {
     "name": "stdout",
     "output_type": "stream",
     "text": [
      "Found 750 images belonging to 10 classes.\n",
      "Found 2500 images belonging to 10 classes.\n"
     ]
    }
   ],
   "source": [
    "#Getting the data\n",
    "train_dir = \"10_food_classes_10_percent/train/\"\n",
    "test_dir = \"10_food_classes_10_percent/test/\"\n",
    "\n",
    "train_gen = ImageDataGenerator(rescale=1./255)\n",
    "test_gen = ImageDataGenerator(rescale=1./255)\n",
    "\n",
    "IMAGE_SIZE = (224,224)\n",
    "BATCH_SIZE = 64\n",
    "\n",
    "train_ds = train_gen.flow_from_directory(train_dir,\n",
    "                                         batch_size=BATCH_SIZE,\n",
    "                                         target_size=IMAGE_SIZE,\n",
    "                                         class_mode=\"categorical\")\n",
    "test_ds = test_gen.flow_from_directory(test_dir,\n",
    "                                      batch_size=BATCH_SIZE,\n",
    "                                      target_size=IMAGE_SIZE,\n",
    "                                      class_mode=\"categorical\")"
   ]
  },
  {
   "cell_type": "code",
   "execution_count": 5,
   "id": "58d77189",
   "metadata": {},
   "outputs": [],
   "source": [
    "#callbacks\n",
    "#tensorboard\n",
    "import datetime\n",
    "\n",
    "def create_tensorboard_callback(dir_name, exp_name):\n",
    "    log_dir = dir_name + \"/\" + exp_name + \"/\" + datetime.datetime.now().strftime(\"%Y%m%d-%H%M%S\")\n",
    "    tensorboard_callback = tf.keras.callbacks.TensorBoard(log_dir=log_dir)\n",
    "    print(\"Saving TensorBoard log files to\", logdir)\n",
    "    return tensorboard_callback"
   ]
  },
  {
   "cell_type": "code",
   "execution_count": 11,
   "id": "b3e72b0e",
   "metadata": {},
   "outputs": [],
   "source": [
    "#Creating models using tensorflow hub\n",
    "import tensorflow_hub as hub\n",
    "from tensorflow.keras import layers\n",
    "\n",
    "def create_model(model_url, num_classes=10):\n",
    "    \"\"\"\n",
    "    Takes a tf hub url and creates a Sequential model with it\n",
    "    \"\"\"\n",
    "    feature_extractor_layer = hub.KerasLayer(model_url, \n",
    "                                             trainable=False,\n",
    "                                            input_shape=IMAGE_SIZE+(3,))\n",
    "    model = tf.keras.Sequential([\n",
    "        feature_extractor_layer,\n",
    "        layers.Dense(num_classes, activation=\"softmax\")\n",
    "    ])\n",
    "    \n",
    "    return model"
   ]
  },
  {
   "cell_type": "code",
   "execution_count": 35,
   "id": "2b06964d",
   "metadata": {},
   "outputs": [],
   "source": [
    "efficientnet_v2_url = \"https://tfhub.dev/google/imagenet/efficientnet_v2_imagenet21k_b0/classification/2\"\n",
    "\n",
    "mobilenet_v3_url = \"https://tfhub.dev/google/imagenet/mobilenet_v3_large_075_224/feature_vector/5\"\n",
    "\n",
    "efficientnet_model = create_model(efficientnet_v2_url)\n",
    "\n",
    "mobilenet_model = create_model(mobilenet_v3_url)"
   ]
  },
  {
   "cell_type": "code",
   "execution_count": 36,
   "id": "40cee748",
   "metadata": {},
   "outputs": [],
   "source": [
    "mobilenet_model.compile(loss=tf.keras.losses.CategoricalCrossentropy(),\n",
    "                          optimizer=tf.keras.optimizers.Adam(),\n",
    "                          metrics=[\"accuracy\"])"
   ]
  },
  {
   "cell_type": "code",
   "execution_count": 37,
   "id": "216845c6",
   "metadata": {},
   "outputs": [
    {
     "name": "stdout",
     "output_type": "stream",
     "text": [
      "Epoch 1/10\n"
     ]
    },
    {
     "name": "stderr",
     "output_type": "stream",
     "text": [
      "2023-09-10 16:14:52.085517: I tensorflow/core/grappler/optimizers/custom_graph_optimizer_registry.cc:113] Plugin optimizer for device_type GPU is enabled.\n"
     ]
    },
    {
     "name": "stdout",
     "output_type": "stream",
     "text": [
      "12/12 [==============================] - ETA: 0s - loss: 2.0988 - accuracy: 0.2667"
     ]
    },
    {
     "name": "stderr",
     "output_type": "stream",
     "text": [
      "2023-09-10 16:14:58.254208: I tensorflow/core/grappler/optimizers/custom_graph_optimizer_registry.cc:113] Plugin optimizer for device_type GPU is enabled.\n"
     ]
    },
    {
     "name": "stdout",
     "output_type": "stream",
     "text": [
      "12/12 [==============================] - 17s 1s/step - loss: 2.0988 - accuracy: 0.2667 - val_loss: 1.6449 - val_accuracy: 0.5420\n",
      "Epoch 2/10\n",
      "12/12 [==============================] - 7s 616ms/step - loss: 1.3963 - accuracy: 0.6573 - val_loss: 1.1647 - val_accuracy: 0.7228\n",
      "Epoch 3/10\n",
      "12/12 [==============================] - 6s 568ms/step - loss: 1.0128 - accuracy: 0.7933 - val_loss: 0.9000 - val_accuracy: 0.7800\n",
      "Epoch 4/10\n",
      "12/12 [==============================] - 7s 597ms/step - loss: 0.7883 - accuracy: 0.8387 - val_loss: 0.7569 - val_accuracy: 0.8168\n",
      "Epoch 5/10\n",
      "12/12 [==============================] - 6s 561ms/step - loss: 0.6599 - accuracy: 0.8587 - val_loss: 0.6747 - val_accuracy: 0.8268\n",
      "Epoch 6/10\n",
      "12/12 [==============================] - 6s 536ms/step - loss: 0.5730 - accuracy: 0.8747 - val_loss: 0.6255 - val_accuracy: 0.8356\n",
      "Epoch 7/10\n",
      "12/12 [==============================] - 6s 559ms/step - loss: 0.5060 - accuracy: 0.8933 - val_loss: 0.5898 - val_accuracy: 0.8416\n",
      "Epoch 8/10\n",
      "12/12 [==============================] - 7s 582ms/step - loss: 0.4529 - accuracy: 0.9053 - val_loss: 0.5644 - val_accuracy: 0.8428\n",
      "Epoch 9/10\n",
      "12/12 [==============================] - 7s 591ms/step - loss: 0.4109 - accuracy: 0.9173 - val_loss: 0.5410 - val_accuracy: 0.8488\n",
      "Epoch 10/10\n",
      "12/12 [==============================] - 6s 541ms/step - loss: 0.3717 - accuracy: 0.9347 - val_loss: 0.5270 - val_accuracy: 0.8488\n"
     ]
    }
   ],
   "source": [
    "history_mobilenet = mobilenet_model.fit(train_ds,\n",
    "                                             validation_data=test_ds,\n",
    "                                             epochs=10,\n",
    "                                             steps_per_epoch=len(train_ds),\n",
    "                                             validation_steps=len(test_ds))"
   ]
  },
  {
   "cell_type": "code",
   "execution_count": 38,
   "id": "25c2dccf",
   "metadata": {},
   "outputs": [
    {
     "name": "stdout",
     "output_type": "stream",
     "text": [
      "40/40 [==============================] - 5s 115ms/step - loss: 0.5270 - accuracy: 0.8488\n"
     ]
    },
    {
     "data": {
      "text/plain": [
       "[0.5270245671272278, 0.848800003528595]"
      ]
     },
     "execution_count": 38,
     "metadata": {},
     "output_type": "execute_result"
    }
   ],
   "source": [
    "mobilenet_model.evaluate(test_ds)"
   ]
  },
  {
   "cell_type": "code",
   "execution_count": 23,
   "id": "227ae07c",
   "metadata": {
    "scrolled": false
   },
   "outputs": [
    {
     "name": "stdout",
     "output_type": "stream",
     "text": [
      "Epoch 1/20\n"
     ]
    },
    {
     "name": "stderr",
     "output_type": "stream",
     "text": [
      "2023-09-07 18:25:57.816710: I tensorflow/core/grappler/optimizers/custom_graph_optimizer_registry.cc:113] Plugin optimizer for device_type GPU is enabled.\n"
     ]
    },
    {
     "name": "stdout",
     "output_type": "stream",
     "text": [
      "12/12 [==============================] - ETA: 0s - loss: 428.8989 - accuracy: 0.1733"
     ]
    },
    {
     "name": "stderr",
     "output_type": "stream",
     "text": [
      "2023-09-07 18:26:02.646068: I tensorflow/core/grappler/optimizers/custom_graph_optimizer_registry.cc:113] Plugin optimizer for device_type GPU is enabled.\n"
     ]
    },
    {
     "name": "stdout",
     "output_type": "stream",
     "text": [
      "12/12 [==============================] - 13s 1s/step - loss: 428.8989 - accuracy: 0.1733 - val_loss: 400.4788 - val_accuracy: 0.1904\n",
      "Epoch 2/20\n",
      "12/12 [==============================] - 7s 576ms/step - loss: 259.8909 - accuracy: 0.2080 - val_loss: 235.5818 - val_accuracy: 0.3180\n",
      "Epoch 3/20\n",
      "12/12 [==============================] - 6s 567ms/step - loss: 165.4703 - accuracy: 0.2733 - val_loss: 70.7217 - val_accuracy: 0.2624\n",
      "Epoch 4/20\n",
      "12/12 [==============================] - 6s 544ms/step - loss: 58.3142 - accuracy: 0.4280 - val_loss: 37.2986 - val_accuracy: 0.5712\n",
      "Epoch 5/20\n",
      "12/12 [==============================] - 7s 583ms/step - loss: 29.4950 - accuracy: 0.5347 - val_loss: 26.8800 - val_accuracy: 0.6756\n",
      "Epoch 6/20\n",
      "12/12 [==============================] - 7s 571ms/step - loss: 17.8022 - accuracy: 0.6307 - val_loss: 7.4949 - val_accuracy: 0.7192\n",
      "Epoch 7/20\n",
      "12/12 [==============================] - 6s 544ms/step - loss: 9.1637 - accuracy: 0.7227 - val_loss: 11.1579 - val_accuracy: 0.7496\n",
      "Epoch 8/20\n",
      "12/12 [==============================] - 6s 563ms/step - loss: 6.7326 - accuracy: 0.7560 - val_loss: 3.7130 - val_accuracy: 0.8056\n",
      "Epoch 9/20\n",
      "12/12 [==============================] - 6s 557ms/step - loss: 6.9300 - accuracy: 0.7467 - val_loss: 6.7177 - val_accuracy: 0.7140\n",
      "Epoch 10/20\n",
      "12/12 [==============================] - 6s 544ms/step - loss: 14.6043 - accuracy: 0.6373 - val_loss: 10.9853 - val_accuracy: 0.6472\n",
      "Epoch 11/20\n",
      "12/12 [==============================] - 6s 548ms/step - loss: 16.0246 - accuracy: 0.6213 - val_loss: 21.4495 - val_accuracy: 0.5996\n",
      "Epoch 12/20\n",
      "12/12 [==============================] - 6s 542ms/step - loss: 17.5210 - accuracy: 0.6333 - val_loss: 18.1193 - val_accuracy: 0.5480\n",
      "Epoch 13/20\n",
      "12/12 [==============================] - 6s 562ms/step - loss: 17.2164 - accuracy: 0.6453 - val_loss: 4.9300 - val_accuracy: 0.7628\n",
      "Epoch 14/20\n",
      "12/12 [==============================] - 6s 537ms/step - loss: 12.4520 - accuracy: 0.7107 - val_loss: 11.7995 - val_accuracy: 0.7244\n",
      "Epoch 15/20\n",
      "12/12 [==============================] - 6s 564ms/step - loss: 7.8458 - accuracy: 0.7333 - val_loss: 5.6531 - val_accuracy: 0.7460\n",
      "Epoch 16/20\n",
      "12/12 [==============================] - 6s 557ms/step - loss: 6.0577 - accuracy: 0.7453 - val_loss: 8.3419 - val_accuracy: 0.6948\n",
      "Epoch 17/20\n",
      "12/12 [==============================] - 6s 563ms/step - loss: 8.7598 - accuracy: 0.6920 - val_loss: 12.9330 - val_accuracy: 0.6500\n",
      "Epoch 18/20\n",
      "12/12 [==============================] - 6s 565ms/step - loss: 17.9223 - accuracy: 0.6067 - val_loss: 14.9492 - val_accuracy: 0.6004\n",
      "Epoch 19/20\n",
      "12/12 [==============================] - 6s 546ms/step - loss: 8.3461 - accuracy: 0.7040 - val_loss: 10.0733 - val_accuracy: 0.7028\n",
      "Epoch 20/20\n",
      "12/12 [==============================] - 6s 541ms/step - loss: 5.8051 - accuracy: 0.7947 - val_loss: 9.2386 - val_accuracy: 0.6796\n"
     ]
    }
   ],
   "source": [
    "efficientnet_model.compile(loss=tf.keras.losses.CategoricalCrossentropy(),\n",
    "                          optimizer=tf.keras.optimizers.Adam(),\n",
    "                          metrics=[\"accuracy\"])\n",
    "history_efficientnet = efficientnet_model.fit(train_ds,\n",
    "                                             validation_data=test_ds,\n",
    "                                             epochs=20,\n",
    "                                             steps_per_epoch=len(train_ds),\n",
    "                                             validation_steps=len(test_ds))"
   ]
  },
  {
   "cell_type": "code",
   "execution_count": 24,
   "id": "3d9631a8",
   "metadata": {},
   "outputs": [
    {
     "name": "stdout",
     "output_type": "stream",
     "text": [
      "40/40 [==============================] - 5s 118ms/step - loss: 9.2386 - accuracy: 0.6796\n"
     ]
    },
    {
     "data": {
      "text/plain": [
       "[9.238638877868652, 0.6796000003814697]"
      ]
     },
     "execution_count": 24,
     "metadata": {},
     "output_type": "execute_result"
    }
   ],
   "source": [
    "efficientnet_model.evaluate(test_ds)"
   ]
  },
  {
   "cell_type": "code",
   "execution_count": 40,
   "id": "8ebe28d3",
   "metadata": {},
   "outputs": [],
   "source": [
    "###FINE TUNING THE MODEL"
   ]
  },
  {
   "cell_type": "code",
   "execution_count": 41,
   "id": "d3d8f08e",
   "metadata": {},
   "outputs": [],
   "source": [
    "#importing helper functions\n",
    "from helper_functions import *"
   ]
  },
  {
   "cell_type": "code",
   "execution_count": null,
   "id": "b22bff22",
   "metadata": {},
   "outputs": [],
   "source": []
  }
 ],
 "metadata": {
  "kernelspec": {
   "display_name": "Python 3 (ipykernel)",
   "language": "python",
   "name": "python3"
  },
  "language_info": {
   "codemirror_mode": {
    "name": "ipython",
    "version": 3
   },
   "file_extension": ".py",
   "mimetype": "text/x-python",
   "name": "python",
   "nbconvert_exporter": "python",
   "pygments_lexer": "ipython3",
   "version": "3.9.16"
  }
 },
 "nbformat": 4,
 "nbformat_minor": 5
}
