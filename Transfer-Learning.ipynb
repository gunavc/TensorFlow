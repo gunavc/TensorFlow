{
 "cells": [
  {
   "cell_type": "code",
   "execution_count": 3,
   "id": "4fb42346",
   "metadata": {},
   "outputs": [],
   "source": [
    "###FEATURE EXTRACTION\n",
    "\n",
    "import tensorflow as tf\n",
    "from tensorflow.keras.preprocessing.image import ImageDataGenerator"
   ]
  },
  {
   "cell_type": "code",
   "execution_count": 4,
   "id": "36c63a66",
   "metadata": {},
   "outputs": [
    {
     "name": "stdout",
     "output_type": "stream",
     "text": [
      "Found 750 images belonging to 10 classes.\n",
      "Found 2500 images belonging to 10 classes.\n"
     ]
    }
   ],
   "source": [
    "#Getting the data\n",
    "train_dir = \"10_food_classes_10_percent/train/\"\n",
    "test_dir = \"10_food_classes_10_percent/test/\"\n",
    "\n",
    "train_gen = ImageDataGenerator(rescale=1./255)\n",
    "test_gen = ImageDataGenerator(rescale=1./255)\n",
    "\n",
    "IMAGE_SIZE = (224,224)\n",
    "BATCH_SIZE = 64\n",
    "\n",
    "train_ds = train_gen.flow_from_directory(train_dir,\n",
    "                                         batch_size=BATCH_SIZE,\n",
    "                                         target_size=IMAGE_SIZE,\n",
    "                                         class_mode=\"categorical\")\n",
    "test_ds = test_gen.flow_from_directory(test_dir,\n",
    "                                      batch_size=BATCH_SIZE,\n",
    "                                      target_size=IMAGE_SIZE,\n",
    "                                      class_mode=\"categorical\")"
   ]
  },
  {
   "cell_type": "code",
   "execution_count": 5,
   "id": "dacad610",
   "metadata": {},
   "outputs": [],
   "source": [
    "#callbacks\n",
    "#tensorboard\n",
    "import datetime\n",
    "\n",
    "def create_tensorboard_callback(dir_name, exp_name):\n",
    "    log_dir = dir_name + \"/\" + exp_name + \"/\" + datetime.datetime.now().strftime(\"%Y%m%d-%H%M%S\")\n",
    "    tensorboard_callback = tf.keras.callbacks.TensorBoard(log_dir=log_dir)\n",
    "    print(\"Saving TensorBoard log files to\", logdir)\n",
    "    return tensorboard_callback"
   ]
  },
  {
   "cell_type": "code",
   "execution_count": 11,
   "id": "9bb5ad7f",
   "metadata": {},
   "outputs": [],
   "source": [
    "#Creating models using tensorflow hub\n",
    "import tensorflow_hub as hub\n",
    "from tensorflow.keras import layers\n",
    "\n",
    "def create_model(model_url, num_classes=10):\n",
    "    \"\"\"\n",
    "    Takes a tf hub url and creates a Sequential model with it\n",
    "    \"\"\"\n",
    "    feature_extractor_layer = hub.KerasLayer(model_url, \n",
    "                                             trainable=False,\n",
    "                                            input_shape=IMAGE_SIZE+(3,))\n",
    "    model = tf.keras.Sequential([\n",
    "        feature_extractor_layer,\n",
    "        layers.Dense(num_classes, activation=\"softmax\")\n",
    "    ])\n",
    "    \n",
    "    return model"
   ]
  },
  {
   "cell_type": "code",
   "execution_count": 12,
   "id": "6f735022",
   "metadata": {},
   "outputs": [
    {
     "name": "stdout",
     "output_type": "stream",
     "text": [
      "Metal device set to: Apple M1 Max\n"
     ]
    },
    {
     "name": "stderr",
     "output_type": "stream",
     "text": [
      "2023-09-06 19:38:19.889614: I tensorflow/core/common_runtime/pluggable_device/pluggable_device_factory.cc:305] Could not identify NUMA node of platform GPU ID 0, defaulting to 0. Your kernel may not have been built with NUMA support.\n",
      "2023-09-06 19:38:19.890006: I tensorflow/core/common_runtime/pluggable_device/pluggable_device_factory.cc:271] Created TensorFlow device (/job:localhost/replica:0/task:0/device:GPU:0 with 0 MB memory) -> physical PluggableDevice (device: 0, name: METAL, pci bus id: <undefined>)\n"
     ]
    }
   ],
   "source": [
    "efficientnet_v2_url = \"https://tfhub.dev/google/imagenet/efficientnet_v2_imagenet21k_b0/classification/2\"\n",
    "\n",
    "mobilenet_v3_url = \"https://tfhub.dev/google/imagenet/mobilenet_v3_large_075_224/feature_vector/5\"\n",
    "\n",
    "efficientnet_model = create_model(efficientnet_v2_url)\n",
    "\n",
    "mobilenet_model = create_model(mobilenet_v3_url)"
   ]
  },
  {
   "cell_type": "code",
   "execution_count": 19,
   "id": "f6ec13fd",
   "metadata": {},
   "outputs": [],
   "source": [
    "mobilenet_model.compile(loss=tf.keras.losses.CategoricalCrossentropy(),\n",
    "                          optimizer=tf.keras.optimizers.Adam(),\n",
    "                          metrics=[\"accuracy\"])"
   ]
  },
  {
   "cell_type": "code",
   "execution_count": 20,
   "id": "7d8f64bb",
   "metadata": {},
   "outputs": [
    {
     "name": "stdout",
     "output_type": "stream",
     "text": [
      "Epoch 1/10\n"
     ]
    },
    {
     "name": "stderr",
     "output_type": "stream",
     "text": [
      "2023-09-07 17:58:48.423830: I tensorflow/core/grappler/optimizers/custom_graph_optimizer_registry.cc:113] Plugin optimizer for device_type GPU is enabled.\n"
     ]
    },
    {
     "name": "stdout",
     "output_type": "stream",
     "text": [
      "12/12 [==============================] - ETA: 0s - loss: 2.0835 - accuracy: 0.2787"
     ]
    },
    {
     "name": "stderr",
     "output_type": "stream",
     "text": [
      "2023-09-07 17:58:52.366132: I tensorflow/core/grappler/optimizers/custom_graph_optimizer_registry.cc:113] Plugin optimizer for device_type GPU is enabled.\n"
     ]
    },
    {
     "name": "stdout",
     "output_type": "stream",
     "text": [
      "12/12 [==============================] - 12s 784ms/step - loss: 2.0835 - accuracy: 0.2787 - val_loss: 1.6482 - val_accuracy: 0.5448\n",
      "Epoch 2/10\n",
      "12/12 [==============================] - 6s 546ms/step - loss: 1.3984 - accuracy: 0.6640 - val_loss: 1.1604 - val_accuracy: 0.7184\n",
      "Epoch 3/10\n",
      "12/12 [==============================] - 6s 548ms/step - loss: 1.0068 - accuracy: 0.8067 - val_loss: 0.8953 - val_accuracy: 0.7900\n",
      "Epoch 4/10\n",
      "12/12 [==============================] - 6s 534ms/step - loss: 0.7840 - accuracy: 0.8440 - val_loss: 0.7553 - val_accuracy: 0.8148\n",
      "Epoch 5/10\n",
      "12/12 [==============================] - 6s 541ms/step - loss: 0.6562 - accuracy: 0.8627 - val_loss: 0.6744 - val_accuracy: 0.8284\n",
      "Epoch 6/10\n",
      "12/12 [==============================] - 6s 552ms/step - loss: 0.5656 - accuracy: 0.8867 - val_loss: 0.6236 - val_accuracy: 0.8388\n",
      "Epoch 7/10\n",
      "12/12 [==============================] - 6s 576ms/step - loss: 0.5023 - accuracy: 0.8987 - val_loss: 0.5870 - val_accuracy: 0.8424\n",
      "Epoch 8/10\n",
      "12/12 [==============================] - 6s 563ms/step - loss: 0.4493 - accuracy: 0.9093 - val_loss: 0.5626 - val_accuracy: 0.8456\n",
      "Epoch 9/10\n",
      "12/12 [==============================] - 6s 546ms/step - loss: 0.4061 - accuracy: 0.9200 - val_loss: 0.5439 - val_accuracy: 0.8460\n",
      "Epoch 10/10\n",
      "12/12 [==============================] - 6s 552ms/step - loss: 0.3683 - accuracy: 0.9307 - val_loss: 0.5275 - val_accuracy: 0.8504\n"
     ]
    }
   ],
   "source": [
    "history_mobilenet = mobilenet_model.fit(train_ds,\n",
    "                                             validation_data=test_ds,\n",
    "                                             epochs=20,\n",
    "                                             steps_per_epoch=len(train_ds),\n",
    "                                             validation_steps=len(test_ds))"
   ]
  },
  {
   "cell_type": "code",
   "execution_count": 21,
   "id": "e4b044b0",
   "metadata": {},
   "outputs": [
    {
     "name": "stdout",
     "output_type": "stream",
     "text": [
      "40/40 [==============================] - 5s 115ms/step - loss: 0.5275 - accuracy: 0.8504\n"
     ]
    },
    {
     "data": {
      "text/plain": [
       "[0.52747642993927, 0.8503999710083008]"
      ]
     },
     "execution_count": 21,
     "metadata": {},
     "output_type": "execute_result"
    }
   ],
   "source": [
    "mobilenet_model.evaluate(test_ds)"
   ]
  },
  {
   "cell_type": "code",
   "execution_count": 23,
   "id": "5f2a8b37",
   "metadata": {
    "scrolled": false
   },
   "outputs": [
    {
     "name": "stdout",
     "output_type": "stream",
     "text": [
      "Epoch 1/20\n"
     ]
    },
    {
     "name": "stderr",
     "output_type": "stream",
     "text": [
      "2023-09-07 18:25:57.816710: I tensorflow/core/grappler/optimizers/custom_graph_optimizer_registry.cc:113] Plugin optimizer for device_type GPU is enabled.\n"
     ]
    },
    {
     "name": "stdout",
     "output_type": "stream",
     "text": [
      "12/12 [==============================] - ETA: 0s - loss: 428.8989 - accuracy: 0.1733"
     ]
    },
    {
     "name": "stderr",
     "output_type": "stream",
     "text": [
      "2023-09-07 18:26:02.646068: I tensorflow/core/grappler/optimizers/custom_graph_optimizer_registry.cc:113] Plugin optimizer for device_type GPU is enabled.\n"
     ]
    },
    {
     "name": "stdout",
     "output_type": "stream",
     "text": [
      "12/12 [==============================] - 13s 1s/step - loss: 428.8989 - accuracy: 0.1733 - val_loss: 400.4788 - val_accuracy: 0.1904\n",
      "Epoch 2/20\n",
      "12/12 [==============================] - 7s 576ms/step - loss: 259.8909 - accuracy: 0.2080 - val_loss: 235.5818 - val_accuracy: 0.3180\n",
      "Epoch 3/20\n",
      "12/12 [==============================] - 6s 567ms/step - loss: 165.4703 - accuracy: 0.2733 - val_loss: 70.7217 - val_accuracy: 0.2624\n",
      "Epoch 4/20\n",
      "12/12 [==============================] - 6s 544ms/step - loss: 58.3142 - accuracy: 0.4280 - val_loss: 37.2986 - val_accuracy: 0.5712\n",
      "Epoch 5/20\n",
      "12/12 [==============================] - 7s 583ms/step - loss: 29.4950 - accuracy: 0.5347 - val_loss: 26.8800 - val_accuracy: 0.6756\n",
      "Epoch 6/20\n",
      "12/12 [==============================] - 7s 571ms/step - loss: 17.8022 - accuracy: 0.6307 - val_loss: 7.4949 - val_accuracy: 0.7192\n",
      "Epoch 7/20\n",
      "12/12 [==============================] - 6s 544ms/step - loss: 9.1637 - accuracy: 0.7227 - val_loss: 11.1579 - val_accuracy: 0.7496\n",
      "Epoch 8/20\n",
      "12/12 [==============================] - 6s 563ms/step - loss: 6.7326 - accuracy: 0.7560 - val_loss: 3.7130 - val_accuracy: 0.8056\n",
      "Epoch 9/20\n",
      "12/12 [==============================] - 6s 557ms/step - loss: 6.9300 - accuracy: 0.7467 - val_loss: 6.7177 - val_accuracy: 0.7140\n",
      "Epoch 10/20\n",
      "12/12 [==============================] - 6s 544ms/step - loss: 14.6043 - accuracy: 0.6373 - val_loss: 10.9853 - val_accuracy: 0.6472\n",
      "Epoch 11/20\n",
      "12/12 [==============================] - 6s 548ms/step - loss: 16.0246 - accuracy: 0.6213 - val_loss: 21.4495 - val_accuracy: 0.5996\n",
      "Epoch 12/20\n",
      "12/12 [==============================] - 6s 542ms/step - loss: 17.5210 - accuracy: 0.6333 - val_loss: 18.1193 - val_accuracy: 0.5480\n",
      "Epoch 13/20\n",
      "12/12 [==============================] - 6s 562ms/step - loss: 17.2164 - accuracy: 0.6453 - val_loss: 4.9300 - val_accuracy: 0.7628\n",
      "Epoch 14/20\n",
      "12/12 [==============================] - 6s 537ms/step - loss: 12.4520 - accuracy: 0.7107 - val_loss: 11.7995 - val_accuracy: 0.7244\n",
      "Epoch 15/20\n",
      "12/12 [==============================] - 6s 564ms/step - loss: 7.8458 - accuracy: 0.7333 - val_loss: 5.6531 - val_accuracy: 0.7460\n",
      "Epoch 16/20\n",
      "12/12 [==============================] - 6s 557ms/step - loss: 6.0577 - accuracy: 0.7453 - val_loss: 8.3419 - val_accuracy: 0.6948\n",
      "Epoch 17/20\n",
      "12/12 [==============================] - 6s 563ms/step - loss: 8.7598 - accuracy: 0.6920 - val_loss: 12.9330 - val_accuracy: 0.6500\n",
      "Epoch 18/20\n",
      "12/12 [==============================] - 6s 565ms/step - loss: 17.9223 - accuracy: 0.6067 - val_loss: 14.9492 - val_accuracy: 0.6004\n",
      "Epoch 19/20\n",
      "12/12 [==============================] - 6s 546ms/step - loss: 8.3461 - accuracy: 0.7040 - val_loss: 10.0733 - val_accuracy: 0.7028\n",
      "Epoch 20/20\n",
      "12/12 [==============================] - 6s 541ms/step - loss: 5.8051 - accuracy: 0.7947 - val_loss: 9.2386 - val_accuracy: 0.6796\n"
     ]
    }
   ],
   "source": [
    "efficientnet_model.compile(loss=tf.keras.losses.CategoricalCrossentropy(),\n",
    "                          optimizer=tf.keras.optimizers.Adam(),\n",
    "                          metrics=[\"accuracy\"])\n",
    "history_efficientnet = efficientnet_model.fit(train_ds,\n",
    "                                             validation_data=test_ds,\n",
    "                                             epochs=20,\n",
    "                                             steps_per_epoch=len(train_ds),\n",
    "                                             validation_steps=len(test_ds))"
   ]
  },
  {
   "cell_type": "code",
   "execution_count": 24,
   "id": "02998db0",
   "metadata": {},
   "outputs": [
    {
     "name": "stdout",
     "output_type": "stream",
     "text": [
      "40/40 [==============================] - 5s 118ms/step - loss: 9.2386 - accuracy: 0.6796\n"
     ]
    },
    {
     "data": {
      "text/plain": [
       "[9.238638877868652, 0.6796000003814697]"
      ]
     },
     "execution_count": 24,
     "metadata": {},
     "output_type": "execute_result"
    }
   ],
   "source": [
    "efficientnet_model.evaluate(test_ds)"
   ]
  },
  {
   "cell_type": "code",
   "execution_count": null,
   "id": "25c0e2be",
   "metadata": {},
   "outputs": [],
   "source": []
  }
 ],
 "metadata": {
  "kernelspec": {
   "display_name": "Python 3 (ipykernel)",
   "language": "python",
   "name": "python3"
  },
  "language_info": {
   "codemirror_mode": {
    "name": "ipython",
    "version": 3
   },
   "file_extension": ".py",
   "mimetype": "text/x-python",
   "name": "python",
   "nbconvert_exporter": "python",
   "pygments_lexer": "ipython3",
   "version": "3.9.16"
  }
 },
 "nbformat": 4,
 "nbformat_minor": 5
}
