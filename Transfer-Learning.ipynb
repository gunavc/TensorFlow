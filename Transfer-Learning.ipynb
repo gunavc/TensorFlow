{
 "cells": [
  {
   "cell_type": "code",
   "execution_count": 3,
   "id": "0787d95e",
   "metadata": {},
   "outputs": [],
   "source": [
    "###FEATURE EXTRACTION\n",
    "\n",
    "import tensorflow as tf\n",
    "from tensorflow.keras.preprocessing.image import ImageDataGenerator"
   ]
  },
  {
   "cell_type": "code",
   "execution_count": 4,
   "id": "9fb57786",
   "metadata": {},
   "outputs": [
    {
     "name": "stdout",
     "output_type": "stream",
     "text": [
      "Found 750 images belonging to 10 classes.\n",
      "Found 2500 images belonging to 10 classes.\n"
     ]
    }
   ],
   "source": [
    "#Getting the data\n",
    "train_dir = \"10_food_classes_10_percent/train/\"\n",
    "test_dir = \"10_food_classes_10_percent/test/\"\n",
    "\n",
    "train_gen = ImageDataGenerator(rescale=1./255)\n",
    "test_gen = ImageDataGenerator(rescale=1./255)\n",
    "\n",
    "IMAGE_SIZE = (224,224)\n",
    "BATCH_SIZE = 64\n",
    "\n",
    "train_ds = train_gen.flow_from_directory(train_dir,\n",
    "                                         batch_size=BATCH_SIZE,\n",
    "                                         target_size=IMAGE_SIZE,\n",
    "                                         class_mode=\"categorical\")\n",
    "test_ds = test_gen.flow_from_directory(test_dir,\n",
    "                                      batch_size=BATCH_SIZE,\n",
    "                                      target_size=IMAGE_SIZE,\n",
    "                                      class_mode=\"categorical\")"
   ]
  },
  {
   "cell_type": "code",
   "execution_count": 5,
   "id": "240485cf",
   "metadata": {},
   "outputs": [],
   "source": [
    "#callbacks\n",
    "#tensorboard\n",
    "import datetime\n",
    "\n",
    "def create_tensorboard_callback(dir_name, exp_name):\n",
    "    log_dir = dir_name + \"/\" + exp_name + \"/\" + datetime.datetime.now().strftime(\"%Y%m%d-%H%M%S\")\n",
    "    tensorboard_callback = tf.keras.callbacks.TensorBoard(log_dir=log_dir)\n",
    "    print(\"Saving TensorBoard log files to\", logdir)\n",
    "    return tensorboard_callback"
   ]
  },
  {
   "cell_type": "code",
   "execution_count": 11,
   "id": "4046a8db",
   "metadata": {},
   "outputs": [],
   "source": [
    "#Creating models using tensorflow hub\n",
    "import tensorflow_hub as hub\n",
    "from tensorflow.keras import layers\n",
    "\n",
    "def create_model(model_url, num_classes=10):\n",
    "    \"\"\"\n",
    "    Takes a tf hub url and creates a Sequential model with it\n",
    "    \"\"\"\n",
    "    feature_extractor_layer = hub.KerasLayer(model_url, \n",
    "                                             trainable=False,\n",
    "                                            input_shape=IMAGE_SIZE+(3,))\n",
    "    model = tf.keras.Sequential([\n",
    "        feature_extractor_layer,\n",
    "        layers.Dense(num_classes, activation=\"softmax\")\n",
    "    ])\n",
    "    \n",
    "    return model"
   ]
  },
  {
   "cell_type": "code",
   "execution_count": 12,
   "id": "c2b32729",
   "metadata": {},
   "outputs": [
    {
     "name": "stdout",
     "output_type": "stream",
     "text": [
      "Metal device set to: Apple M1 Max\n"
     ]
    },
    {
     "name": "stderr",
     "output_type": "stream",
     "text": [
      "2023-09-06 19:38:19.889614: I tensorflow/core/common_runtime/pluggable_device/pluggable_device_factory.cc:305] Could not identify NUMA node of platform GPU ID 0, defaulting to 0. Your kernel may not have been built with NUMA support.\n",
      "2023-09-06 19:38:19.890006: I tensorflow/core/common_runtime/pluggable_device/pluggable_device_factory.cc:271] Created TensorFlow device (/job:localhost/replica:0/task:0/device:GPU:0 with 0 MB memory) -> physical PluggableDevice (device: 0, name: METAL, pci bus id: <undefined>)\n"
     ]
    }
   ],
   "source": [
    "efficientnet_v2_url = \"https://tfhub.dev/google/imagenet/efficientnet_v2_imagenet21k_b0/classification/2\"\n",
    "\n",
    "mobilenet_v3_url = \"https://tfhub.dev/google/imagenet/mobilenet_v3_large_075_224/feature_vector/5\"\n",
    "\n",
    "efficientnet_model = create_model(efficientnet_v2_url)\n",
    "\n",
    "mobilenet_model = create_model(mobilenet_v3_url)"
   ]
  },
  {
   "cell_type": "code",
   "execution_count": 13,
   "id": "64db508c",
   "metadata": {},
   "outputs": [],
   "source": [
    "efficientnet_model.compile(loss=tf.keras.losses.CategoricalCrossentropy(),\n",
    "                          optimizer=tf.keras.optimizers.Adam(),\n",
    "                          metrics=[\"accuracy\"])"
   ]
  },
  {
   "cell_type": "code",
   "execution_count": null,
   "id": "6af6a16b",
   "metadata": {},
   "outputs": [],
   "source": []
  }
 ],
 "metadata": {
  "kernelspec": {
   "display_name": "Python 3 (ipykernel)",
   "language": "python",
   "name": "python3"
  },
  "language_info": {
   "codemirror_mode": {
    "name": "ipython",
    "version": 3
   },
   "file_extension": ".py",
   "mimetype": "text/x-python",
   "name": "python",
   "nbconvert_exporter": "python",
   "pygments_lexer": "ipython3",
   "version": "3.9.16"
  }
 },
 "nbformat": 4,
 "nbformat_minor": 5
}
