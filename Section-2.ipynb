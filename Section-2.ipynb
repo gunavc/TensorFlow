{
 "cells": [
  {
   "cell_type": "code",
   "execution_count": 62,
   "id": "09193c82",
   "metadata": {},
   "outputs": [
    {
     "data": {
      "text/plain": [
       "'2.9.0'"
      ]
     },
     "execution_count": 62,
     "metadata": {},
     "output_type": "execute_result"
    }
   ],
   "source": [
    "import tensorflow as tf\n",
    "tf.__version__"
   ]
  },
  {
   "cell_type": "code",
   "execution_count": 63,
   "id": "89bc129b",
   "metadata": {
    "scrolled": true
   },
   "outputs": [
    {
     "name": "stdout",
     "output_type": "stream",
     "text": [
      "tf.Tensor(8, shape=(), dtype=int32)\n"
     ]
    }
   ],
   "source": [
    "#Creating tensors using tf.constant\n",
    "scalar = tf.constant(8)\n",
    "print(scalar)"
   ]
  },
  {
   "cell_type": "code",
   "execution_count": 64,
   "id": "0ec64c19",
   "metadata": {},
   "outputs": [
    {
     "data": {
      "text/plain": [
       "0"
      ]
     },
     "execution_count": 64,
     "metadata": {},
     "output_type": "execute_result"
    }
   ],
   "source": [
    "scalar.ndim"
   ]
  },
  {
   "cell_type": "code",
   "execution_count": 65,
   "id": "4e8836d4",
   "metadata": {},
   "outputs": [
    {
     "name": "stdout",
     "output_type": "stream",
     "text": [
      "tf.Tensor([8 8], shape=(2,), dtype=int32)\n"
     ]
    }
   ],
   "source": [
    "vector = tf.constant([8,8])\n",
    "print(vector)"
   ]
  },
  {
   "cell_type": "code",
   "execution_count": 66,
   "id": "3061d977",
   "metadata": {},
   "outputs": [
    {
     "data": {
      "text/plain": [
       "1"
      ]
     },
     "execution_count": 66,
     "metadata": {},
     "output_type": "execute_result"
    }
   ],
   "source": [
    "vector.ndim"
   ]
  },
  {
   "cell_type": "code",
   "execution_count": 67,
   "id": "57b3dd39",
   "metadata": {
    "scrolled": true
   },
   "outputs": [
    {
     "name": "stdout",
     "output_type": "stream",
     "text": [
      "tf.Tensor(\n",
      "[[10 10 10]\n",
      " [ 7  7  7]\n",
      " [ 9  9  9]], shape=(3, 3), dtype=int32)\n"
     ]
    },
    {
     "data": {
      "text/plain": [
       "2"
      ]
     },
     "execution_count": 67,
     "metadata": {},
     "output_type": "execute_result"
    }
   ],
   "source": [
    "matrix = tf.constant([[10,10,10],[7,7,7],[9,9,9]])\n",
    "print(matrix)\n",
    "matrix.ndim"
   ]
  },
  {
   "cell_type": "code",
   "execution_count": 68,
   "id": "7b95d293",
   "metadata": {},
   "outputs": [
    {
     "name": "stdout",
     "output_type": "stream",
     "text": [
      "tf.Tensor(\n",
      "[[10. 10.]\n",
      " [ 7.  7.]], shape=(2, 2), dtype=float16)\n"
     ]
    }
   ],
   "source": [
    "#default will give 32 bit numbers\n",
    "matrix_new = tf.constant([[10.0,10.0],[7.0,7.0]],dtype=tf.float16)\n",
    "print(matrix_new)"
   ]
  },
  {
   "cell_type": "code",
   "execution_count": 69,
   "id": "a792480d",
   "metadata": {},
   "outputs": [
    {
     "name": "stdout",
     "output_type": "stream",
     "text": [
      "tf.Tensor(\n",
      "[[[10 10]\n",
      "  [ 7  7]]\n",
      "\n",
      " [[ 8  8]\n",
      "  [ 9  9]]], shape=(2, 2, 2), dtype=int32)\n"
     ]
    },
    {
     "data": {
      "text/plain": [
       "3"
      ]
     },
     "execution_count": 69,
     "metadata": {},
     "output_type": "execute_result"
    }
   ],
   "source": [
    "tensor = tf.constant([[[10,10],[7,7]],\n",
    "                     [[8,8],[9,9]]])\n",
    "print(tensor)\n",
    "tensor.ndim"
   ]
  },
  {
   "cell_type": "code",
   "execution_count": 70,
   "id": "30e368a0",
   "metadata": {},
   "outputs": [
    {
     "name": "stdout",
     "output_type": "stream",
     "text": [
      "<tf.Variable 'Variable:0' shape=(2,) dtype=int32, numpy=array([10, 10], dtype=int32)>\n",
      "tf.Tensor([8 8], shape=(2,), dtype=int32)\n"
     ]
    }
   ],
   "source": [
    "#Creating tensors using tf.variable\n",
    "variable_tensor = tf.Variable([10,10])\n",
    "constant_tensor = tf.constant([8,8])\n",
    "print(variable_tensor)\n",
    "print(constant_tensor)"
   ]
  },
  {
   "cell_type": "code",
   "execution_count": 71,
   "id": "bb35241f",
   "metadata": {
    "scrolled": true
   },
   "outputs": [
    {
     "name": "stdout",
     "output_type": "stream",
     "text": [
      "<tf.Variable 'Variable:0' shape=(2,) dtype=int32, numpy=array([ 7, 10], dtype=int32)>\n"
     ]
    }
   ],
   "source": [
    "variable_tensor[0].assign(7)\n",
    "print(variable_tensor)\n",
    "\n",
    "#WILL NOT WORK\n",
    "# constant_tensor[0].assign(7) = Gives an attribute error"
   ]
  },
  {
   "cell_type": "code",
   "execution_count": 72,
   "id": "166b5c74",
   "metadata": {},
   "outputs": [
    {
     "data": {
      "text/plain": [
       "<tf.Tensor: shape=(3, 2), dtype=float32, numpy=\n",
       "array([[ 0.78953624,  0.53897345],\n",
       "       [-0.48535708,  0.74055266],\n",
       "       [ 0.31662667, -1.4391748 ]], dtype=float32)>"
      ]
     },
     "execution_count": 72,
     "metadata": {},
     "output_type": "execute_result"
    }
   ],
   "source": [
    "#Creating random Tensors\n",
    "random_1 = tf.random.Generator.from_seed(40)\n",
    "random_1 = random_1.normal(shape=(3,2))\n",
    "random_1"
   ]
  },
  {
   "cell_type": "code",
   "execution_count": 73,
   "id": "250b61bb",
   "metadata": {},
   "outputs": [
    {
     "data": {
      "text/plain": [
       "<tf.Tensor: shape=(3, 2), dtype=int32, numpy=\n",
       "array([[10, 10],\n",
       "       [ 7,  7],\n",
       "       [ 8,  8]], dtype=int32)>"
      ]
     },
     "execution_count": 73,
     "metadata": {},
     "output_type": "execute_result"
    }
   ],
   "source": [
    "#SHUFFLING THE ORDER OF ELEMENTS IN A TENSOR\n",
    "not_shuffled = tf.constant([[10,10],[7,7],[8,8]])\n",
    "not_shuffled"
   ]
  },
  {
   "cell_type": "code",
   "execution_count": 74,
   "id": "dd3311b6",
   "metadata": {},
   "outputs": [
    {
     "data": {
      "text/plain": [
       "<tf.Tensor: shape=(3, 2), dtype=int32, numpy=\n",
       "array([[10, 10],\n",
       "       [ 7,  7],\n",
       "       [ 8,  8]], dtype=int32)>"
      ]
     },
     "execution_count": 74,
     "metadata": {},
     "output_type": "execute_result"
    }
   ],
   "source": [
    "#Both work\n",
    "#shuffled = tf.random.shuffle(not_shuffled,seed=30)\n",
    "tf.random.shuffle(not_shuffled)"
   ]
  },
  {
   "cell_type": "code",
   "execution_count": 75,
   "id": "e4173316",
   "metadata": {
    "scrolled": true
   },
   "outputs": [
    {
     "name": "stdout",
     "output_type": "stream",
     "text": [
      "Numpy Array =  [ 1  2  3  4  5  6  7  8  9 10 11 12 13 14 15 16 17 18 19 20 21 22 23 24]\n"
     ]
    },
    {
     "data": {
      "text/plain": [
       "<tf.Tensor: shape=(3, 4, 2), dtype=int32, numpy=\n",
       "array([[[ 1,  2],\n",
       "        [ 3,  4],\n",
       "        [ 5,  6],\n",
       "        [ 7,  8]],\n",
       "\n",
       "       [[ 9, 10],\n",
       "        [11, 12],\n",
       "        [13, 14],\n",
       "        [15, 16]],\n",
       "\n",
       "       [[17, 18],\n",
       "        [19, 20],\n",
       "        [21, 22],\n",
       "        [23, 24]]], dtype=int32)>"
      ]
     },
     "execution_count": 75,
     "metadata": {},
     "output_type": "execute_result"
    }
   ],
   "source": [
    "#TURNING NUMPY ARRAYS INTO TENSORS\n",
    "#tensors can be run on a gpu much faster\n",
    "\n",
    "import numpy as np\n",
    "numpy_A = np.arange(1,25,dtype=np.int32)\n",
    "print(\"Numpy Array = \",numpy_A)\n",
    "\n",
    "#converting np array into tensor\n",
    "A = tf.constant(numpy_A,shape=(3,4,2))\n",
    "A"
   ]
  },
  {
   "cell_type": "code",
   "execution_count": 78,
   "id": "0822fc59",
   "metadata": {},
   "outputs": [
    {
     "data": {
      "text/plain": [
       "(<tf.Tensor: shape=(2, 2), dtype=int32, numpy=\n",
       " array([[20, 17],\n",
       "        [13, 14]], dtype=int32)>,\n",
       " <tf.Tensor: shape=(2, 2), dtype=int32, numpy=\n",
       " array([[20, 14],\n",
       "        [ 6,  8]], dtype=int32)>,\n",
       " <tf.Tensor: shape=(2, 2), dtype=int32, numpy=\n",
       " array([[10,  7],\n",
       "        [ 3,  4]], dtype=int32)>)"
      ]
     },
     "execution_count": 78,
     "metadata": {},
     "output_type": "execute_result"
    }
   ],
   "source": [
    "#Tensor Operations Basic\n",
    "tensor = tf.constant([[10,7],[3,4]])\n",
    "tensor+10,tensor*2,tensor"
   ]
  },
  {
   "cell_type": "code",
   "execution_count": 81,
   "id": "e72b9d27",
   "metadata": {},
   "outputs": [
    {
     "data": {
      "text/plain": [
       "(<tf.Tensor: shape=(2, 2), dtype=int32, numpy=\n",
       " array([[100,  70],\n",
       "        [ 30,  40]], dtype=int32)>,\n",
       " <tf.Tensor: shape=(2, 2), dtype=int32, numpy=\n",
       " array([[10,  7],\n",
       "        [ 3,  4]], dtype=int32)>)"
      ]
     },
     "execution_count": 81,
     "metadata": {},
     "output_type": "execute_result"
    }
   ],
   "source": [
    "#This is faster than regular operators\n",
    "tf.multiply(tensor,10),tensor"
   ]
  },
  {
   "cell_type": "code",
   "execution_count": 82,
   "id": "bbe59223",
   "metadata": {},
   "outputs": [
    {
     "data": {
      "text/plain": [
       "<tf.Tensor: shape=(2, 2), dtype=int32, numpy=\n",
       "array([[121,  98],\n",
       "       [ 42,  37]], dtype=int32)>"
      ]
     },
     "execution_count": 82,
     "metadata": {},
     "output_type": "execute_result"
    }
   ],
   "source": [
    "#Matrix Multiplication\n",
    "tf.matmul(tensor,tensor)"
   ]
  },
  {
   "cell_type": "code",
   "execution_count": 100,
   "id": "4262493e",
   "metadata": {},
   "outputs": [
    {
     "data": {
      "text/plain": [
       "<tf.Tensor: shape=(2, 2), dtype=int32, numpy=\n",
       "array([[16, 15],\n",
       "       [42, 37]], dtype=int32)>"
      ]
     },
     "execution_count": 100,
     "metadata": {},
     "output_type": "execute_result"
    }
   ],
   "source": [
    "tensor2 = tf.constant([1,2,3,4])\n",
    "#Reshaping the tensor\n",
    "tensor2 = tf.reshape(tensor2,shape=(2,2))\n",
    "tf.matmul(tensor2,tensor)"
   ]
  },
  {
   "cell_type": "code",
   "execution_count": 111,
   "id": "d8a9bbdd",
   "metadata": {},
   "outputs": [
    {
     "data": {
      "text/plain": [
       "(<tf.Tensor: shape=(2, 2), dtype=int32, numpy=\n",
       " array([[121,  98],\n",
       "        [ 42,  37]], dtype=int32)>,\n",
       " <tf.Tensor: shape=(2, 2, 2, 2), dtype=int32, numpy=\n",
       " array([[[[100,  70],\n",
       "          [ 30,  40]],\n",
       " \n",
       "         [[ 70,  49],\n",
       "          [ 21,  28]]],\n",
       " \n",
       " \n",
       "        [[[ 30,  21],\n",
       "          [  9,  12]],\n",
       " \n",
       "         [[ 40,  28],\n",
       "          [ 12,  16]]]], dtype=int32)>)"
      ]
     },
     "execution_count": 111,
     "metadata": {},
     "output_type": "execute_result"
    }
   ],
   "source": [
    "#Using tf.tensordot()\n",
    "#axes variable has to sepcified (=1)\n",
    "tf.tensordot(tensor,tensor,1) , tf.tensordot(tensor,tensor,0)"
   ]
  },
  {
   "cell_type": "code",
   "execution_count": 123,
   "id": "a984b276",
   "metadata": {},
   "outputs": [
    {
     "name": "stdout",
     "output_type": "stream",
     "text": [
      "tensor3 = tf.Tensor(\n",
      "[[10.  7.]\n",
      " [ 3.  4.]], shape=(2, 2), dtype=float32)\n"
     ]
    },
    {
     "data": {
      "text/plain": [
       "(<tf.Tensor: shape=(2, 2), dtype=int16, numpy=\n",
       " array([[10,  7],\n",
       "        [ 3,  4]], dtype=int16)>,\n",
       " tf.int32)"
      ]
     },
     "execution_count": 123,
     "metadata": {},
     "output_type": "execute_result"
    }
   ],
   "source": [
    "#Changing datatype of tensors\n",
    "tensor3 = tf.cast(tensor,dtype=tf.float32)\n",
    "print(\"tensor3 =\",tensor3)\n",
    "#Code runs faster if it has 16 bit precision\n",
    "tensor_new = tf.cast(tensor,dtype=tf.int16)\n",
    "tensor_new"
   ]
  },
  {
   "cell_type": "code",
   "execution_count": 159,
   "id": "e423c795",
   "metadata": {},
   "outputs": [
    {
     "name": "stdout",
     "output_type": "stream",
     "text": [
      "min =  0\n",
      "max =  98\n",
      "mean =  52\n",
      "sum =  2600\n",
      "Variance =  817.8\n",
      "Standard Deviation =  28.597202\n"
     ]
    }
   ],
   "source": [
    "#AGGREGATING TENSORS\n",
    "#Condensing multiple values into smaller values\n",
    "\n",
    "#1) Getting the absolute values(not really the best)\n",
    "C = tf.constant([-10,7])\n",
    "tf.abs(C) #Returns the absolute value\n",
    "\n",
    "D = tf.constant(np.random.randint(0,100,size=50))\n",
    "#2) Getting the min and max\n",
    "print(\"min = \",tf.reduce_min(D).numpy())\n",
    "print(\"max = \",tf.reduce_max(D).numpy())\n",
    "\n",
    "#3) Getting the mean\n",
    "print(\"mean = \",tf.reduce_mean(D).numpy())\n",
    "\n",
    "#4) Getting the sum\n",
    "print(\"sum = \",tf.reduce_sum(D).numpy())\n",
    "\n",
    "#5) Getting the variance and standard deviation\n",
    "D = tf.cast(D,dtype=tf.float32)\n",
    "D.dtype\n",
    "print(\"Variance = \",tf.math.reduce_variance(D).numpy())\n",
    "print(\"Standard Deviation = \",tf.math.reduce_std(D).numpy())"
   ]
  },
  {
   "cell_type": "code",
   "execution_count": 175,
   "id": "c8a9b4d1",
   "metadata": {},
   "outputs": [
    {
     "data": {
      "text/plain": [
       "(<tf.Tensor: shape=(), dtype=int64, numpy=42>,\n",
       " <tf.Tensor: shape=(), dtype=float32, numpy=0.9671384>)"
      ]
     },
     "execution_count": 175,
     "metadata": {},
     "output_type": "execute_result"
    }
   ],
   "source": [
    "#Finding positional minimum and maximum\n",
    "tf.random.set_seed(42)\n",
    "E = tf.random.uniform(shape=[50])\n",
    "tf.argmax(E) , E[tf.argmax(E)]\n",
    "#For minimum use argmin()"
   ]
  },
  {
   "cell_type": "code",
   "execution_count": 185,
   "id": "b5253ef4",
   "metadata": {},
   "outputs": [
    {
     "name": "stdout",
     "output_type": "stream",
     "text": [
      "tf.Tensor(\n",
      "[[[[0.6645621  0.44100678 0.3528825  0.46448255 0.03366041 0.68467236\n",
      "    0.74011743 0.8724445  0.22632635 0.22319686 0.3103881  0.7223358\n",
      "    0.13318717 0.5480639  0.5746088  0.8996835  0.00946367 0.5212307\n",
      "    0.6345445  0.1993283  0.72942245 0.54583454 0.10756552 0.6767061\n",
      "    0.6602763  0.33695042 0.60141766 0.21062577 0.8527372  0.44062173\n",
      "    0.9485276  0.23752594 0.81179297 0.5263394  0.494308   0.21612847\n",
      "    0.8457197  0.8718841  0.3083862  0.6868038  0.23764038 0.7817228\n",
      "    0.9671384  0.06870162 0.79873943 0.66028714 0.5871513  0.16461694\n",
      "    0.7381023  0.32054043]]]], shape=(1, 1, 1, 50), dtype=float32)\n",
      "shape = (1, 1, 1, 50)\n"
     ]
    },
    {
     "data": {
      "text/plain": [
       "(TensorShape([50]),\n",
       " <tf.Tensor: shape=(50,), dtype=float32, numpy=\n",
       " array([0.6645621 , 0.44100678, 0.3528825 , 0.46448255, 0.03366041,\n",
       "        0.68467236, 0.74011743, 0.8724445 , 0.22632635, 0.22319686,\n",
       "        0.3103881 , 0.7223358 , 0.13318717, 0.5480639 , 0.5746088 ,\n",
       "        0.8996835 , 0.00946367, 0.5212307 , 0.6345445 , 0.1993283 ,\n",
       "        0.72942245, 0.54583454, 0.10756552, 0.6767061 , 0.6602763 ,\n",
       "        0.33695042, 0.60141766, 0.21062577, 0.8527372 , 0.44062173,\n",
       "        0.9485276 , 0.23752594, 0.81179297, 0.5263394 , 0.494308  ,\n",
       "        0.21612847, 0.8457197 , 0.8718841 , 0.3083862 , 0.6868038 ,\n",
       "        0.23764038, 0.7817228 , 0.9671384 , 0.06870162, 0.79873943,\n",
       "        0.66028714, 0.5871513 , 0.16461694, 0.7381023 , 0.32054043],\n",
       "       dtype=float32)>)"
      ]
     },
     "execution_count": 185,
     "metadata": {},
     "output_type": "execute_result"
    }
   ],
   "source": [
    "#Squeezing Tensors : Removing all single dimesions\n",
    "tf.random.set_seed(42)\n",
    "F = tf.constant(tf.random.uniform(shape=[50]),shape=(1,1,1,50))\n",
    "print(F)\n",
    "print(\"shape =\",F.shape)\n",
    "F_squeezed = tf.squeeze(F)\n",
    "F_squeezed.shape , F_squeezed"
   ]
  },
  {
   "cell_type": "code",
   "execution_count": 189,
   "id": "1ec0b818",
   "metadata": {
    "scrolled": true
   },
   "outputs": [
    {
     "data": {
      "text/plain": [
       "<tf.Tensor: shape=(4, 4), dtype=float32, numpy=\n",
       "array([[1., 0., 0., 0.],\n",
       "       [0., 1., 0., 0.],\n",
       "       [0., 0., 1., 0.],\n",
       "       [0., 0., 0., 1.]], dtype=float32)>"
      ]
     },
     "execution_count": 189,
     "metadata": {},
     "output_type": "execute_result"
    }
   ],
   "source": [
    "#One-Hot encoding tensors\n",
    "l = [0, 1, 2, 3] #Created list\n",
    "tf.one_hot(l,depth=4) #depth should be equal to number of elements"
   ]
  },
  {
   "cell_type": "code",
   "execution_count": 196,
   "id": "790856d4",
   "metadata": {},
   "outputs": [
    {
     "data": {
      "text/plain": [
       "<tf.Tensor: shape=(4, 4), dtype=string, numpy=\n",
       "array([[b'yes', b'no', b'no', b'no'],\n",
       "       [b'no', b'yes', b'no', b'no'],\n",
       "       [b'no', b'no', b'yes', b'no'],\n",
       "       [b'no', b'no', b'no', b'yes']], dtype=object)>"
      ]
     },
     "execution_count": 196,
     "metadata": {},
     "output_type": "execute_result"
    }
   ],
   "source": [
    "#Custom values for one-hot encoding (Rarely used)\n",
    "Z = tf.one_hot(l,depth=4,on_value=\"yes\",off_value=\"no\")\n",
    "Z"
   ]
  },
  {
   "cell_type": "code",
   "execution_count": null,
   "id": "55f24141",
   "metadata": {},
   "outputs": [],
   "source": []
  }
 ],
 "metadata": {
  "kernelspec": {
   "display_name": "Python 3 (ipykernel)",
   "language": "python",
   "name": "python3"
  },
  "language_info": {
   "codemirror_mode": {
    "name": "ipython",
    "version": 3
   },
   "file_extension": ".py",
   "mimetype": "text/x-python",
   "name": "python",
   "nbconvert_exporter": "python",
   "pygments_lexer": "ipython3",
   "version": "3.9.16"
  }
 },
 "nbformat": 4,
 "nbformat_minor": 5
}
